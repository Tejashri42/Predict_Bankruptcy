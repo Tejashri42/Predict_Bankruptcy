{
 "cells": [
  {
   "cell_type": "markdown",
   "metadata": {},
   "source": [
    "# Problem description\n",
    "\n",
    "You are to predict whether a company will go bankrupt in the following year, based on financial attributes of the company.\n",
    "\n",
    "Perhaps you are contemplating lending money to a company, and need to know whether the company\n",
    "is in near-term danger of not being able to repay.\n"
   ]
  },
  {
   "cell_type": "markdown",
   "metadata": {},
   "source": [
    "## Goal"
   ]
  },
  {
   "cell_type": "markdown",
   "metadata": {
    "slideshow": {
     "slide_type": "fragment"
    }
   },
   "source": [
    "## Learning objectives\n",
    "\n",
    "- Demonstrate mastery on solving a classification problem and presenting\n",
    "the entire Recipe for Machine Learning process in a notebook.\n",
    "- We will make suggestions for ways to approach the problem\n",
    "    - But there will be little explicit direction for this task.\n",
    "- It is meant to be analogous to a pre-interview task that a potential employer might assign\n",
    "to verify your skill"
   ]
  },
  {
   "cell_type": "markdown",
   "metadata": {},
   "source": [
    "# Import modules"
   ]
  },
  {
   "cell_type": "code",
   "execution_count": 1,
   "metadata": {},
   "outputs": [],
   "source": [
    "## Standard imports\n",
    "import numpy as np\n",
    "import pandas as pd\n",
    "import matplotlib.pyplot as plt\n",
    "\n",
    "import sklearn\n",
    "\n",
    "import os\n",
    "import math\n",
    "\n",
    "%matplotlib inline\n"
   ]
  },
  {
   "cell_type": "code",
   "execution_count": 2,
   "metadata": {},
   "outputs": [
    {
     "name": "stdout",
     "output_type": "stream",
     "text": [
      "Requirement already satisfied: imblearn in /Users/tejashriprabhu/miniforge3/envs/env_tf/lib/python3.9/site-packages (0.0)\n",
      "Requirement already satisfied: imbalanced-learn in /Users/tejashriprabhu/miniforge3/envs/env_tf/lib/python3.9/site-packages (from imblearn) (0.9.0)\n",
      "Requirement already satisfied: numpy>=1.14.6 in /Users/tejashriprabhu/miniforge3/envs/env_tf/lib/python3.9/site-packages (from imbalanced-learn->imblearn) (1.21.2)\n",
      "Requirement already satisfied: scipy>=1.1.0 in /Users/tejashriprabhu/miniforge3/envs/env_tf/lib/python3.9/site-packages (from imbalanced-learn->imblearn) (1.7.3)\n",
      "Requirement already satisfied: joblib>=0.11 in /Users/tejashriprabhu/miniforge3/envs/env_tf/lib/python3.9/site-packages (from imbalanced-learn->imblearn) (0.17.0)\n",
      "Requirement already satisfied: threadpoolctl>=2.0.0 in /Users/tejashriprabhu/miniforge3/envs/env_tf/lib/python3.9/site-packages (from imbalanced-learn->imblearn) (2.1.0)\n",
      "Requirement already satisfied: scikit-learn>=1.0.1 in /Users/tejashriprabhu/miniforge3/envs/env_tf/lib/python3.9/site-packages (from imbalanced-learn->imblearn) (1.0.2)\n",
      "\u001b[33mWARNING: You are using pip version 22.0.3; however, version 22.0.4 is available.\n",
      "You should consider upgrading via the '/Users/tejashriprabhu/miniforge3/envs/env_tf/bin/python -m pip install --upgrade pip' command.\u001b[0m\u001b[33m\n",
      "\u001b[0mNote: you may need to restart the kernel to use updated packages.\n"
     ]
    }
   ],
   "source": [
    "pip install imblearn"
   ]
  },
  {
   "cell_type": "code",
   "execution_count": 3,
   "metadata": {},
   "outputs": [
    {
     "name": "stdout",
     "output_type": "stream",
     "text": [
      "Requirement already satisfied: seaborn in /Users/tejashriprabhu/miniforge3/envs/env_tf/lib/python3.9/site-packages (0.11.2)\n",
      "Requirement already satisfied: numpy>=1.15 in /Users/tejashriprabhu/miniforge3/envs/env_tf/lib/python3.9/site-packages (from seaborn) (1.21.2)\n",
      "Requirement already satisfied: pandas>=0.23 in /Users/tejashriprabhu/miniforge3/envs/env_tf/lib/python3.9/site-packages (from seaborn) (1.4.1)\n",
      "Requirement already satisfied: scipy>=1.0 in /Users/tejashriprabhu/miniforge3/envs/env_tf/lib/python3.9/site-packages (from seaborn) (1.7.3)\n",
      "Requirement already satisfied: matplotlib>=2.2 in /Users/tejashriprabhu/miniforge3/envs/env_tf/lib/python3.9/site-packages (from seaborn) (3.5.1)\n",
      "Requirement already satisfied: fonttools>=4.22.0 in /Users/tejashriprabhu/miniforge3/envs/env_tf/lib/python3.9/site-packages (from matplotlib>=2.2->seaborn) (4.25.0)\n",
      "Requirement already satisfied: kiwisolver>=1.0.1 in /Users/tejashriprabhu/miniforge3/envs/env_tf/lib/python3.9/site-packages (from matplotlib>=2.2->seaborn) (1.3.2)\n",
      "Requirement already satisfied: pyparsing>=2.2.1 in /Users/tejashriprabhu/miniforge3/envs/env_tf/lib/python3.9/site-packages (from matplotlib>=2.2->seaborn) (3.0.7)\n",
      "Requirement already satisfied: python-dateutil>=2.7 in /Users/tejashriprabhu/miniforge3/envs/env_tf/lib/python3.9/site-packages (from matplotlib>=2.2->seaborn) (2.8.2)\n",
      "Requirement already satisfied: cycler>=0.10 in /Users/tejashriprabhu/miniforge3/envs/env_tf/lib/python3.9/site-packages (from matplotlib>=2.2->seaborn) (0.11.0)\n",
      "Requirement already satisfied: pillow>=6.2.0 in /Users/tejashriprabhu/miniforge3/envs/env_tf/lib/python3.9/site-packages (from matplotlib>=2.2->seaborn) (9.0.1)\n",
      "Requirement already satisfied: packaging>=20.0 in /Users/tejashriprabhu/miniforge3/envs/env_tf/lib/python3.9/site-packages (from matplotlib>=2.2->seaborn) (21.3)\n",
      "Requirement already satisfied: pytz>=2020.1 in /Users/tejashriprabhu/miniforge3/envs/env_tf/lib/python3.9/site-packages (from pandas>=0.23->seaborn) (2021.3)\n",
      "Requirement already satisfied: six>=1.5 in /Users/tejashriprabhu/miniforge3/envs/env_tf/lib/python3.9/site-packages (from python-dateutil>=2.7->matplotlib>=2.2->seaborn) (1.16.0)\n",
      "\u001b[33mWARNING: You are using pip version 22.0.3; however, version 22.0.4 is available.\n",
      "You should consider upgrading via the '/Users/tejashriprabhu/miniforge3/envs/env_tf/bin/python -m pip install --upgrade pip' command.\u001b[0m\u001b[33m\n",
      "\u001b[0mNote: you may need to restart the kernel to use updated packages.\n"
     ]
    }
   ],
   "source": [
    "pip install seaborn"
   ]
  },
  {
   "cell_type": "code",
   "execution_count": 4,
   "metadata": {},
   "outputs": [
    {
     "name": "stdout",
     "output_type": "stream",
     "text": [
      "Requirement already satisfied: cmake in /Users/tejashriprabhu/miniforge3/envs/env_tf/lib/python3.9/site-packages (3.22.3)\n",
      "\u001b[33mWARNING: You are using pip version 22.0.3; however, version 22.0.4 is available.\n",
      "You should consider upgrading via the '/Users/tejashriprabhu/miniforge3/envs/env_tf/bin/python -m pip install --upgrade pip' command.\u001b[0m\u001b[33m\n",
      "\u001b[0mNote: you may need to restart the kernel to use updated packages.\n"
     ]
    }
   ],
   "source": [
    "pip install cmake"
   ]
  },
  {
   "cell_type": "code",
   "execution_count": 5,
   "metadata": {},
   "outputs": [
    {
     "name": "stdout",
     "output_type": "stream",
     "text": [
      "Requirement already satisfied: xgboost in /Users/tejashriprabhu/miniforge3/envs/env_tf/lib/python3.9/site-packages (1.5.2)\n",
      "Requirement already satisfied: numpy in /Users/tejashriprabhu/miniforge3/envs/env_tf/lib/python3.9/site-packages (from xgboost) (1.21.2)\n",
      "Requirement already satisfied: scipy in /Users/tejashriprabhu/miniforge3/envs/env_tf/lib/python3.9/site-packages (from xgboost) (1.7.3)\n",
      "\u001b[33mWARNING: You are using pip version 22.0.3; however, version 22.0.4 is available.\n",
      "You should consider upgrading via the '/Users/tejashriprabhu/miniforge3/envs/env_tf/bin/python -m pip install --upgrade pip' command.\u001b[0m\u001b[33m\n",
      "\u001b[0mNote: you may need to restart the kernel to use updated packages.\n"
     ]
    }
   ],
   "source": [
    "pip install xgboost"
   ]
  },
  {
   "cell_type": "markdown",
   "metadata": {},
   "source": [
    "# API for students"
   ]
  },
  {
   "cell_type": "code",
   "execution_count": 6,
   "metadata": {},
   "outputs": [],
   "source": [
    "## Load the bankruptcy_helper module\n",
    "\n",
    "from IPython.core.interactiveshell import InteractiveShell\n",
    "InteractiveShell.ast_node_interactivity = \"all\"\n",
    "\n",
    "# Reload all modules imported with %aimport\n",
    "%load_ext autoreload\n",
    "%autoreload 1\n",
    "\n",
    "# Import bankruptcy_helper module\n",
    "import bankruptcy_helper\n",
    "%aimport bankruptcy_helper\n",
    "\n",
    "helper = bankruptcy_helper.Helper()"
   ]
  },
  {
   "cell_type": "markdown",
   "metadata": {},
   "source": [
    "# Get the data\n",
    "\n",
    "The first step in our Recipe is Get the Data.\n",
    "\n",
    "- Each example is a row of data corresponding to a single company\n",
    "- There are 64 attributes, described in the section below\n",
    "- The column `Bankrupt` is 1 if the company subsequently went bankrupt; 0 if it did not go bankrupt\n",
    "- The column `Id` is a Company Identifier"
   ]
  },
  {
   "cell_type": "code",
   "execution_count": 7,
   "metadata": {},
   "outputs": [
    {
     "name": "stdout",
     "output_type": "stream",
     "text": [
      "Date shape:  (4818, 66)\n"
     ]
    }
   ],
   "source": [
    "# Data directory\n",
    "DATA_DIR = \"./Data\"\n",
    "\n",
    "if not os.path.isdir(DATA_DIR):\n",
    "    DATA_DIR = \"../resource/asnlib/publicdata/bankruptcy/data\"\n",
    "\n",
    "data_file = \"5th_yr.csv\"\n",
    "data = pd.read_csv( os.path.join(DATA_DIR, \"train\", data_file) )\n",
    "\n",
    "target_attr = \"Bankrupt\"\n",
    "\n",
    "n_samples, n_attrs = data.shape\n",
    "print(\"Date shape: \", data.shape)"
   ]
  },
  {
   "cell_type": "markdown",
   "metadata": {},
   "source": [
    "## Have a look at the data\n",
    "\n",
    "We will not go through all steps in the Recipe, nor in depth.\n",
    "\n",
    "But here's a peek"
   ]
  },
  {
   "cell_type": "code",
   "execution_count": 8,
   "metadata": {},
   "outputs": [
    {
     "data": {
      "text/html": [
       "<div>\n",
       "<style scoped>\n",
       "    .dataframe tbody tr th:only-of-type {\n",
       "        vertical-align: middle;\n",
       "    }\n",
       "\n",
       "    .dataframe tbody tr th {\n",
       "        vertical-align: top;\n",
       "    }\n",
       "\n",
       "    .dataframe thead th {\n",
       "        text-align: right;\n",
       "    }\n",
       "</style>\n",
       "<table border=\"1\" class=\"dataframe\">\n",
       "  <thead>\n",
       "    <tr style=\"text-align: right;\">\n",
       "      <th></th>\n",
       "      <th>X1</th>\n",
       "      <th>X2</th>\n",
       "      <th>X3</th>\n",
       "      <th>X4</th>\n",
       "      <th>X5</th>\n",
       "      <th>X6</th>\n",
       "      <th>X7</th>\n",
       "      <th>X8</th>\n",
       "      <th>X9</th>\n",
       "      <th>X10</th>\n",
       "      <th>...</th>\n",
       "      <th>X57</th>\n",
       "      <th>X58</th>\n",
       "      <th>X59</th>\n",
       "      <th>X60</th>\n",
       "      <th>X61</th>\n",
       "      <th>X62</th>\n",
       "      <th>X63</th>\n",
       "      <th>X64</th>\n",
       "      <th>Bankrupt</th>\n",
       "      <th>Id</th>\n",
       "    </tr>\n",
       "  </thead>\n",
       "  <tbody>\n",
       "    <tr>\n",
       "      <th>0</th>\n",
       "      <td>0.025417</td>\n",
       "      <td>0.41769</td>\n",
       "      <td>0.0568</td>\n",
       "      <td>1.1605</td>\n",
       "      <td>-126.39</td>\n",
       "      <td>0.41355</td>\n",
       "      <td>0.025417</td>\n",
       "      <td>1.2395</td>\n",
       "      <td>1.16500</td>\n",
       "      <td>0.51773</td>\n",
       "      <td>...</td>\n",
       "      <td>0.049094</td>\n",
       "      <td>0.85835</td>\n",
       "      <td>0.12322</td>\n",
       "      <td>5.6167</td>\n",
       "      <td>7.4042</td>\n",
       "      <td>164.310</td>\n",
       "      <td>2.2214</td>\n",
       "      <td>1.334</td>\n",
       "      <td>0</td>\n",
       "      <td>4510</td>\n",
       "    </tr>\n",
       "    <tr>\n",
       "      <th>1</th>\n",
       "      <td>-0.023834</td>\n",
       "      <td>0.2101</td>\n",
       "      <td>0.50839</td>\n",
       "      <td>4.2374</td>\n",
       "      <td>22.034</td>\n",
       "      <td>0.058412</td>\n",
       "      <td>-0.027621</td>\n",
       "      <td>3.6579</td>\n",
       "      <td>0.98183</td>\n",
       "      <td>0.76855</td>\n",
       "      <td>...</td>\n",
       "      <td>-0.031011</td>\n",
       "      <td>1.01850</td>\n",
       "      <td>0.069047</td>\n",
       "      <td>5.7996</td>\n",
       "      <td>7.7529</td>\n",
       "      <td>26.446</td>\n",
       "      <td>13.802</td>\n",
       "      <td>6.4782</td>\n",
       "      <td>0</td>\n",
       "      <td>3537</td>\n",
       "    </tr>\n",
       "    <tr>\n",
       "      <th>2</th>\n",
       "      <td>0.030515</td>\n",
       "      <td>0.44606</td>\n",
       "      <td>0.19569</td>\n",
       "      <td>1.565</td>\n",
       "      <td>35.766</td>\n",
       "      <td>0.28196</td>\n",
       "      <td>0.039264</td>\n",
       "      <td>0.88456</td>\n",
       "      <td>1.05260</td>\n",
       "      <td>0.39457</td>\n",
       "      <td>...</td>\n",
       "      <td>0.077337</td>\n",
       "      <td>0.95006</td>\n",
       "      <td>0.25266</td>\n",
       "      <td>15.049</td>\n",
       "      <td>2.8179</td>\n",
       "      <td>104.730</td>\n",
       "      <td>3.4852</td>\n",
       "      <td>2.6361</td>\n",
       "      <td>0</td>\n",
       "      <td>3920</td>\n",
       "    </tr>\n",
       "    <tr>\n",
       "      <th>3</th>\n",
       "      <td>0.052318</td>\n",
       "      <td>0.056366</td>\n",
       "      <td>0.54562</td>\n",
       "      <td>10.68</td>\n",
       "      <td>438.2</td>\n",
       "      <td>0.13649</td>\n",
       "      <td>0.058164</td>\n",
       "      <td>10.853</td>\n",
       "      <td>1.02790</td>\n",
       "      <td>0.61173</td>\n",
       "      <td>...</td>\n",
       "      <td>0.085524</td>\n",
       "      <td>0.97282</td>\n",
       "      <td>0</td>\n",
       "      <td>6.0157</td>\n",
       "      <td>7.4626</td>\n",
       "      <td>48.756</td>\n",
       "      <td>7.4863</td>\n",
       "      <td>1.0602</td>\n",
       "      <td>0</td>\n",
       "      <td>1806</td>\n",
       "    </tr>\n",
       "    <tr>\n",
       "      <th>4</th>\n",
       "      <td>0.000992</td>\n",
       "      <td>0.49712</td>\n",
       "      <td>0.12316</td>\n",
       "      <td>1.3036</td>\n",
       "      <td>-71.398</td>\n",
       "      <td>0</td>\n",
       "      <td>0.001007</td>\n",
       "      <td>1.0116</td>\n",
       "      <td>1.29210</td>\n",
       "      <td>0.50288</td>\n",
       "      <td>...</td>\n",
       "      <td>0.001974</td>\n",
       "      <td>0.99925</td>\n",
       "      <td>0.019736</td>\n",
       "      <td>3.4819</td>\n",
       "      <td>8.582</td>\n",
       "      <td>114.580</td>\n",
       "      <td>3.1854</td>\n",
       "      <td>2.742</td>\n",
       "      <td>0</td>\n",
       "      <td>1529</td>\n",
       "    </tr>\n",
       "  </tbody>\n",
       "</table>\n",
       "<p>5 rows × 66 columns</p>\n",
       "</div>"
      ],
      "text/plain": [
       "          X1        X2       X3      X4       X5        X6         X7  \\\n",
       "0   0.025417   0.41769   0.0568  1.1605  -126.39   0.41355   0.025417   \n",
       "1  -0.023834    0.2101  0.50839  4.2374   22.034  0.058412  -0.027621   \n",
       "2   0.030515   0.44606  0.19569   1.565   35.766   0.28196   0.039264   \n",
       "3   0.052318  0.056366  0.54562   10.68    438.2   0.13649   0.058164   \n",
       "4   0.000992   0.49712  0.12316  1.3036  -71.398         0   0.001007   \n",
       "\n",
       "        X8       X9      X10  ...        X57      X58       X59     X60  \\\n",
       "0   1.2395  1.16500  0.51773  ...   0.049094  0.85835   0.12322  5.6167   \n",
       "1   3.6579  0.98183  0.76855  ...  -0.031011  1.01850  0.069047  5.7996   \n",
       "2  0.88456  1.05260  0.39457  ...   0.077337  0.95006   0.25266  15.049   \n",
       "3   10.853  1.02790  0.61173  ...   0.085524  0.97282         0  6.0157   \n",
       "4   1.0116  1.29210  0.50288  ...   0.001974  0.99925  0.019736  3.4819   \n",
       "\n",
       "      X61      X62     X63     X64  Bankrupt    Id  \n",
       "0  7.4042  164.310  2.2214   1.334         0  4510  \n",
       "1  7.7529   26.446  13.802  6.4782         0  3537  \n",
       "2  2.8179  104.730  3.4852  2.6361         0  3920  \n",
       "3  7.4626   48.756  7.4863  1.0602         0  1806  \n",
       "4   8.582  114.580  3.1854   2.742         0  1529  \n",
       "\n",
       "[5 rows x 66 columns]"
      ]
     },
     "execution_count": 8,
     "metadata": {},
     "output_type": "execute_result"
    }
   ],
   "source": [
    "data.head()"
   ]
  },
  {
   "cell_type": "markdown",
   "metadata": {},
   "source": [
    "Pretty *unhelpful* !\n",
    "\n",
    "What are these mysteriously named features ?\n",
    "\n",
    "## Description of attributes"
   ]
  },
  {
   "cell_type": "raw",
   "metadata": {},
   "source": [
    "Attribute Information:\n",
    "\n",
    "Id Company Identifier \n",
    "X1 net profit / total assets\n",
    "X2 total liabilities / total assets\n",
    "X3 working capital / total assets\n",
    "X4 current assets / short-term liabilities\n",
    "X5 [(cash + short-term securities + receivables - short-term liabilities) / (operating expenses - depreciation)] * 365\n",
    "X6 retained earnings / total assets\n",
    "X7 EBIT / total assets\n",
    "X8 book value of equity / total liabilities\n",
    "X9 sales / total assets\n",
    "X10 equity / total assets\n",
    "X11 (gross profit + extraordinary items + financial expenses) / total assets\n",
    "X12 gross profit / short-term liabilities\n",
    "X13 (gross profit + depreciation) / sales\n",
    "X14 (gross profit + interest) / total assets\n",
    "X15 (total liabilities * 365) / (gross profit + depreciation)\n",
    "X16 (gross profit + depreciation) / total liabilities\n",
    "X17 total assets / total liabilities\n",
    "X18 gross profit / total assets\n",
    "X19 gross profit / sales\n",
    "X20 (inventory * 365) / sales\n",
    "X21 sales (n) / sales (n-1)\n",
    "X22 profit on operating activities / total assets\n",
    "X23 net profit / sales\n",
    "X24 gross profit (in 3 years) / total assets\n",
    "X25 (equity - share capital) / total assets\n",
    "X26 (net profit + depreciation) / total liabilities\n",
    "X27 profit on operating activities / financial expenses\n",
    "X28 working capital / fixed assets\n",
    "X29 logarithm of total assets\n",
    "X30 (total liabilities - cash) / sales\n",
    "X31 (gross profit + interest) / sales\n",
    "X32 (current liabilities * 365) / cost of products sold\n",
    "X33 operating expenses / short-term liabilities\n",
    "X34 operating expenses / total liabilities\n",
    "X35 profit on sales / total assets\n",
    "X36 total sales / total assets\n",
    "X37 (current assets - inventories) / long-term liabilities\n",
    "X38 constant capital / total assets\n",
    "X39 profit on sales / sales\n",
    "X40 (current assets - inventory - receivables) / short-term liabilities\n",
    "X41 total liabilities / ((profit on operating activities + depreciation) * (12/365))\n",
    "X42 profit on operating activities / sales\n",
    "X43 rotation receivables + inventory turnover in days\n",
    "X44 (receivables * 365) / sales\n",
    "X45 net profit / inventory\n",
    "X46 (current assets - inventory) / short-term liabilities\n",
    "X47 (inventory * 365) / cost of products sold\n",
    "X48 EBITDA (profit on operating activities - depreciation) / total assets\n",
    "X49 EBITDA (profit on operating activities - depreciation) / sales\n",
    "X50 current assets / total liabilities\n",
    "X51 short-term liabilities / total assets\n",
    "X52 (short-term liabilities * 365) / cost of products sold)\n",
    "X53 equity / fixed assets\n",
    "X54 constant capital / fixed assets\n",
    "X55 working capital\n",
    "X56 (sales - cost of products sold) / sales\n",
    "X57 (current assets - inventory - short-term liabilities) / (sales - gross profit - depreciation)\n",
    "X58 total costs /total sales\n",
    "X59 long-term liabilities / equity\n",
    "X60 sales / inventory\n",
    "X61 sales / receivables\n",
    "X62 (short-term liabilities *365) / sales\n",
    "X63 sales / short-term liabilities\n",
    "X64 sales / fixed assets\n"
   ]
  },
  {
   "cell_type": "markdown",
   "metadata": {},
   "source": [
    "This may still be somewhat unhelpful for those of you not used to reading Financial Statements.\n",
    "\n",
    "But that's partially the point of the exercise\n",
    "- You can *still* perform Machine Learning *even if* you are not an expert in the problem domain\n",
    "    - That's what makes this a good interview exercise: you can demonstrate your thought process even if you don't know the exact meaning of the terms\n",
    "- Of course: becoming an expert in the domain *will improve* your ability to create better models\n",
    "    - Feature engineering is easier if you understand the features, their inter-relationships, and the relationship to the target"
   ]
  },
  {
   "cell_type": "markdown",
   "metadata": {},
   "source": [
    "Let's get a feel for the data\n",
    "- What is the type of each attribute ?\n"
   ]
  },
  {
   "cell_type": "code",
   "execution_count": 9,
   "metadata": {},
   "outputs": [
    {
     "name": "stdout",
     "output_type": "stream",
     "text": [
      "<class 'pandas.core.frame.DataFrame'>\n",
      "RangeIndex: 4818 entries, 0 to 4817\n",
      "Data columns (total 66 columns):\n",
      " #   Column    Non-Null Count  Dtype  \n",
      "---  ------    --------------  -----  \n",
      " 0   X1        4818 non-null   object \n",
      " 1   X2        4818 non-null   object \n",
      " 2   X3        4818 non-null   object \n",
      " 3   X4        4818 non-null   object \n",
      " 4   X5        4818 non-null   object \n",
      " 5   X6        4818 non-null   object \n",
      " 6   X7        4818 non-null   object \n",
      " 7   X8        4818 non-null   object \n",
      " 8   X9        4818 non-null   float64\n",
      " 9   X10       4818 non-null   object \n",
      " 10  X11       4818 non-null   object \n",
      " 11  X12       4818 non-null   object \n",
      " 12  X13       4818 non-null   float64\n",
      " 13  X14       4818 non-null   object \n",
      " 14  X15       4818 non-null   object \n",
      " 15  X16       4818 non-null   object \n",
      " 16  X17       4818 non-null   object \n",
      " 17  X18       4818 non-null   object \n",
      " 18  X19       4818 non-null   float64\n",
      " 19  X20       4818 non-null   float64\n",
      " 20  X21       4818 non-null   object \n",
      " 21  X22       4818 non-null   object \n",
      " 22  X23       4818 non-null   float64\n",
      " 23  X24       4818 non-null   object \n",
      " 24  X25       4818 non-null   object \n",
      " 25  X26       4818 non-null   object \n",
      " 26  X27       4818 non-null   object \n",
      " 27  X28       4818 non-null   object \n",
      " 28  X29       4818 non-null   object \n",
      " 29  X30       4818 non-null   float64\n",
      " 30  X31       4818 non-null   float64\n",
      " 31  X32       4818 non-null   object \n",
      " 32  X33       4818 non-null   object \n",
      " 33  X34       4818 non-null   object \n",
      " 34  X35       4818 non-null   object \n",
      " 35  X36       4818 non-null   object \n",
      " 36  X37       4818 non-null   object \n",
      " 37  X38       4818 non-null   object \n",
      " 38  X39       4818 non-null   float64\n",
      " 39  X40       4818 non-null   object \n",
      " 40  X41       4818 non-null   object \n",
      " 41  X42       4818 non-null   float64\n",
      " 42  X43       4818 non-null   float64\n",
      " 43  X44       4818 non-null   float64\n",
      " 44  X45       4818 non-null   object \n",
      " 45  X46       4818 non-null   object \n",
      " 46  X47       4818 non-null   object \n",
      " 47  X48       4818 non-null   object \n",
      " 48  X49       4818 non-null   float64\n",
      " 49  X50       4818 non-null   object \n",
      " 50  X51       4818 non-null   object \n",
      " 51  X52       4818 non-null   object \n",
      " 52  X53       4818 non-null   object \n",
      " 53  X54       4818 non-null   object \n",
      " 54  X55       4818 non-null   float64\n",
      " 55  X56       4818 non-null   float64\n",
      " 56  X57       4818 non-null   object \n",
      " 57  X58       4818 non-null   float64\n",
      " 58  X59       4818 non-null   object \n",
      " 59  X60       4818 non-null   object \n",
      " 60  X61       4818 non-null   object \n",
      " 61  X62       4818 non-null   float64\n",
      " 62  X63       4818 non-null   object \n",
      " 63  X64       4818 non-null   object \n",
      " 64  Bankrupt  4818 non-null   int64  \n",
      " 65  Id        4818 non-null   int64  \n",
      "dtypes: float64(16), int64(2), object(48)\n",
      "memory usage: 2.4+ MB\n"
     ]
    }
   ],
   "source": [
    "data.info()"
   ]
  },
  {
   "cell_type": "markdown",
   "metadata": {},
   "source": [
    "You may be puzzled:\n",
    "- Most attributes are `object` and *not* numeric (`float64`)\n",
    "- But looking at the data via `data.head()` certainly gives the impression that all attributes are numeric\n",
    "\n",
    "Welcome to the world of messy data !  The dataset has represented numbers as strings.\n",
    "- These little unexpected challenges are common in the real-word\n",
    "- Data is rarely perfect and clean"
   ]
  },
  {
   "cell_type": "markdown",
   "metadata": {},
   "source": [
    "So you might want to first convert all attributes to numeric\n",
    "\n",
    "**Hint**\n",
    "- Look up the Pandas method `to_numeric`\n",
    "    - We suggest you use the option `errors='coerce'`\n",
    "    "
   ]
  },
  {
   "cell_type": "markdown",
   "metadata": {},
   "source": [
    "## Converting the object data to numeric (Float)"
   ]
  },
  {
   "cell_type": "code",
   "execution_count": 10,
   "metadata": {},
   "outputs": [
    {
     "name": "stdout",
     "output_type": "stream",
     "text": [
      "<class 'pandas.core.frame.DataFrame'>\n",
      "RangeIndex: 4818 entries, 0 to 4817\n",
      "Data columns (total 66 columns):\n",
      " #   Column    Non-Null Count  Dtype  \n",
      "---  ------    --------------  -----  \n",
      " 0   X1        4816 non-null   float64\n",
      " 1   X2        4816 non-null   float64\n",
      " 2   X3        4816 non-null   float64\n",
      " 3   X4        4803 non-null   float64\n",
      " 4   X5        4808 non-null   float64\n",
      " 5   X6        4816 non-null   float64\n",
      " 6   X7        4816 non-null   float64\n",
      " 7   X8        4804 non-null   float64\n",
      " 8   X9        4818 non-null   float64\n",
      " 9   X10       4816 non-null   float64\n",
      " 10  X11       4816 non-null   float64\n",
      " 11  X12       4803 non-null   float64\n",
      " 12  X13       4818 non-null   float64\n",
      " 13  X14       4816 non-null   float64\n",
      " 14  X15       4812 non-null   float64\n",
      " 15  X16       4804 non-null   float64\n",
      " 16  X17       4804 non-null   float64\n",
      " 17  X18       4816 non-null   float64\n",
      " 18  X19       4818 non-null   float64\n",
      " 19  X20       4818 non-null   float64\n",
      " 20  X21       4744 non-null   float64\n",
      " 21  X22       4816 non-null   float64\n",
      " 22  X23       4818 non-null   float64\n",
      " 23  X24       4702 non-null   float64\n",
      " 24  X25       4816 non-null   float64\n",
      " 25  X26       4804 non-null   float64\n",
      " 26  X27       4513 non-null   float64\n",
      " 27  X28       4735 non-null   float64\n",
      " 28  X29       4816 non-null   float64\n",
      " 29  X30       4818 non-null   float64\n",
      " 30  X31       4818 non-null   float64\n",
      " 31  X32       4776 non-null   float64\n",
      " 32  X33       4803 non-null   float64\n",
      " 33  X34       4804 non-null   float64\n",
      " 34  X35       4816 non-null   float64\n",
      " 35  X36       4816 non-null   float64\n",
      " 36  X37       2750 non-null   float64\n",
      " 37  X38       4816 non-null   float64\n",
      " 38  X39       4818 non-null   float64\n",
      " 39  X40       4803 non-null   float64\n",
      " 40  X41       4756 non-null   float64\n",
      " 41  X42       4818 non-null   float64\n",
      " 42  X43       4818 non-null   float64\n",
      " 43  X44       4818 non-null   float64\n",
      " 44  X45       4598 non-null   float64\n",
      " 45  X46       4803 non-null   float64\n",
      " 46  X47       4787 non-null   float64\n",
      " 47  X48       4816 non-null   float64\n",
      " 48  X49       4818 non-null   float64\n",
      " 49  X50       4804 non-null   float64\n",
      " 50  X51       4816 non-null   float64\n",
      " 51  X52       4786 non-null   float64\n",
      " 52  X53       4735 non-null   float64\n",
      " 53  X54       4735 non-null   float64\n",
      " 54  X55       4818 non-null   float64\n",
      " 55  X56       4818 non-null   float64\n",
      " 56  X57       4816 non-null   float64\n",
      " 57  X58       4818 non-null   float64\n",
      " 58  X59       4816 non-null   float64\n",
      " 59  X60       4598 non-null   float64\n",
      " 60  X61       4806 non-null   float64\n",
      " 61  X62       4818 non-null   float64\n",
      " 62  X63       4803 non-null   float64\n",
      " 63  X64       4735 non-null   float64\n",
      " 64  Bankrupt  4818 non-null   int64  \n",
      " 65  Id        4818 non-null   int64  \n",
      "dtypes: float64(64), int64(2)\n",
      "memory usage: 2.4 MB\n"
     ]
    }
   ],
   "source": [
    "#apply the to_numeric transform to all the columns that have a Dtype as object \n",
    "#coerce will make the invalid parsing will be set as NaN\n",
    "cols = data.columns[data.dtypes.eq('object')]\n",
    "data[cols] = data[cols].apply(pd.to_numeric, errors='coerce')\n",
    "data.info()"
   ]
  },
  {
   "cell_type": "code",
   "execution_count": 11,
   "metadata": {},
   "outputs": [
    {
     "name": "stdout",
     "output_type": "stream",
     "text": [
      "Training dataset: (3854, 64)\n",
      "Training Labels: (3854,)\n",
      "Testing dataset: (964, 64)\n",
      "Testing Labels: (964,)\n"
     ]
    }
   ],
   "source": [
    "X = data.drop(columns = ['Bankrupt','Id'])\n",
    "y = data['Bankrupt']\n",
    "from sklearn.model_selection import train_test_split\n",
    "X_train, X_test, y_train, y_test = train_test_split(X, y, test_size=0.2, random_state=42)\n",
    "print(\"Training dataset:\", (X_train.shape))\n",
    "print(\"Training Labels:\",(y_train.shape))\n",
    "print(\"Testing dataset:\",X_test.shape)\n",
    "print(\"Testing Labels:\",y_test.shape)"
   ]
  },
  {
   "cell_type": "markdown",
   "metadata": {},
   "source": [
    "# Baseline Model: NaiveBayes"
   ]
  },
  {
   "cell_type": "markdown",
   "metadata": {},
   "source": [
    "For the baseline model, we choose NaiveBayes as it is a much faster classifier. Since, it assumes independence, it can assume each individual feature has its own distribution (https://scikit-learn.org/stable/modules/naive_bayes.html)"
   ]
  },
  {
   "cell_type": "markdown",
   "metadata": {},
   "source": [
    "To handle missing data, we use a SimpleImputer that imputes a strategy of median to fill the missing data"
   ]
  },
  {
   "cell_type": "code",
   "execution_count": 12,
   "metadata": {},
   "outputs": [
    {
     "data": {
      "text/plain": [
       "Pipeline(steps=[('simpleimputer', SimpleImputer(strategy='median')),\n",
       "                ('gaussiannb', GaussianNB())])"
      ]
     },
     "execution_count": 12,
     "metadata": {},
     "output_type": "execute_result"
    }
   ],
   "source": [
    "#Pipeline with Imputer and Gaussian Naive Bayes Classifier\n",
    "from sklearn.naive_bayes import GaussianNB\n",
    "from sklearn.pipeline import make_pipeline\n",
    "from sklearn.impute import SimpleImputer\n",
    "from sklearn.preprocessing import StandardScaler\n",
    "pipe = make_pipeline(SimpleImputer(strategy ='median'),GaussianNB())\n",
    "pipe.fit(X_train,y_train)\n",
    "y_pred = pipe.predict(X_test)"
   ]
  },
  {
   "cell_type": "code",
   "execution_count": 13,
   "metadata": {},
   "outputs": [
    {
     "data": {
      "text/plain": [
       "<sklearn.metrics._plot.confusion_matrix.ConfusionMatrixDisplay at 0x1319b0a90>"
      ]
     },
     "execution_count": 13,
     "metadata": {},
     "output_type": "execute_result"
    },
    {
     "data": {
      "image/png": "[encoded data removed]",
      "text/plain": [
       "<Figure size 432x288 with 2 Axes>"
      ]
     },
     "metadata": {
      "needs_background": "light"
     },
     "output_type": "display_data"
    },
    {
     "name": "stdout",
     "output_type": "stream",
     "text": [
      "              precision    recall  f1-score   support\n",
      "\n",
      "           0       0.95      0.10      0.17       894\n",
      "           1       0.07      0.93      0.14        70\n",
      "\n",
      "    accuracy                           0.16       964\n",
      "   macro avg       0.51      0.51      0.16       964\n",
      "weighted avg       0.88      0.16      0.17       964\n",
      "\n",
      "\n"
     ]
    }
   ],
   "source": [
    "#Performance Metrics Libraries\n",
    "from sklearn.metrics import precision_score\n",
    "from sklearn.metrics import recall_score\n",
    "from sklearn.metrics import accuracy_score\n",
    "from sklearn.metrics import balanced_accuracy_score\n",
    "from sklearn.metrics import confusion_matrix\n",
    "from sklearn.metrics import confusion_matrix, ConfusionMatrixDisplay\n",
    "from sklearn.metrics import classification_report\n",
    "\n",
    "cm = confusion_matrix(y_test,y_pred)\n",
    "disp = ConfusionMatrixDisplay(confusion_matrix=cm)\n",
    "disp.plot()\n",
    "plt.show()\n",
    "print(f\"{classification_report(y_test,y_pred)}\\n\")"
   ]
  },
  {
   "cell_type": "code",
   "execution_count": 14,
   "metadata": {},
   "outputs": [
    {
     "name": "stdout",
     "output_type": "stream",
     "text": [
      "The Baseline Model is SimpleImputer with mean strategy and NaiveBayes\n",
      "Baseline accuracy score: 0.1566 \n",
      "Baseline balanced accuracy score:0.5124 \n",
      "Baseline Precision score: 0.0745 \n",
      "Baseline Recall score: 0.9286 \n"
     ]
    }
   ],
   "source": [
    "print(\"The Baseline Model is SimpleImputer with mean strategy and NaiveBayes\")\n",
    "print(\"Baseline accuracy score: {:3.4f} \".format(accuracy_score(y_test,y_pred)))\n",
    "print(\"Baseline balanced accuracy score:{:3.4f} \".format(balanced_accuracy_score(y_test, y_pred,adjusted=False)))\n",
    "print(\"Baseline Precision score: {:3.4f} \".format((precision_score(y_test,y_pred))))\n",
    "print(\"Baseline Recall score: {:3.4f} \".format((recall_score(y_test,y_pred))))"
   ]
  },
  {
   "cell_type": "markdown",
   "metadata": {},
   "source": [
    "Our Baseline Model 'The NaiveBayes' does a good job of predicting bankrupt companies as bankrupt, but it grossly misclassifies solvent companies as bankrupt (True Label = 0; predicted Label =1). Additionally it also has a poor accuracy and balanced accuracy score. Our aim is to find sophisticated models that perform better than our baseline"
   ]
  },
  {
   "cell_type": "markdown",
   "metadata": {},
   "source": [
    "# Exploratory Data Analysis (EDA)"
   ]
  },
  {
   "cell_type": "markdown",
   "metadata": {},
   "source": [
    "## Checking for Data Imbalance"
   ]
  },
  {
   "cell_type": "code",
   "execution_count": 15,
   "metadata": {},
   "outputs": [
    {
     "name": "stdout",
     "output_type": "stream",
     "text": [
      "0    4510\n",
      "1     308\n",
      "Name: Bankrupt, dtype: int64\n",
      "4510\n",
      "308\n",
      "Ratio of Solvent to Bankrupt: [14.6:1] \n",
      "Imbalance in data: Majority Class: 93.6% Minority Class: 6.4% \n"
     ]
    }
   ],
   "source": [
    "a,b = data[\"Bankrupt\"].value_counts()\n",
    "print(data[\"Bankrupt\"].value_counts())\n",
    "print(a)\n",
    "print (b)\n",
    "print(\"Ratio of Solvent to Bankrupt: [{:2.1f}:1] \".format(a/b))\n",
    "print(\"Imbalance in data: Majority Class: {:2.1f}% Minority Class: {:2.1f}% \".format(a/(a+b)*100,b/(a+b)*100))"
   ]
  },
  {
   "cell_type": "markdown",
   "metadata": {},
   "source": [
    "## Graphical Plotting Solvent (Class 0) vs Bankrupt (Class 1) "
   ]
  },
  {
   "cell_type": "code",
   "execution_count": 16,
   "metadata": {},
   "outputs": [
    {
     "data": {
      "text/plain": [
       "<AxesSubplot:>"
      ]
     },
     "execution_count": 16,
     "metadata": {},
     "output_type": "execute_result"
    },
    {
     "data": {
      "image/png": "[encoded data removed]",
      "text/plain": [
       "<Figure size 432x288 with 1 Axes>"
      ]
     },
     "metadata": {
      "needs_background": "light"
     },
     "output_type": "display_data"
    }
   ],
   "source": [
    "data[\"Bankrupt\"].value_counts().plot(kind = \"bar\")"
   ]
  },
  {
   "cell_type": "markdown",
   "metadata": {},
   "source": [
    "Since the minority class (Bankrupt) represents only 6.4% of the entire dataset, we have significant data imbalance. Since, some of the classifier models are sensitive to data imbalance, later on we will look at techniques to balance the data"
   ]
  },
  {
   "cell_type": "markdown",
   "metadata": {},
   "source": [
    "Now, we look at Dimensionality Reduction techniques to see if we can reduce our feature space, without significant information loss. And if this adds value to our Model\n"
   ]
  },
  {
   "cell_type": "markdown",
   "metadata": {},
   "source": [
    "\n",
    "\n",
    "## Dimensionality Reduction using PCA"
   ]
  },
  {
   "cell_type": "code",
   "execution_count": 17,
   "metadata": {},
   "outputs": [
    {
     "data": {
      "image/png": "[encoded data removed]",
      "text/plain": [
       "<Figure size 432x288 with 1 Axes>"
      ]
     },
     "metadata": {
      "needs_background": "light"
     },
     "output_type": "display_data"
    }
   ],
   "source": [
    "from sklearn.impute import SimpleImputer\n",
    "from sklearn.preprocessing import StandardScaler\n",
    "from sklearn.decomposition import PCA\n",
    "Imputer = SimpleImputer()\n",
    "data_imp = Imputer.fit_transform(data)\n",
    "scalar = StandardScaler()\n",
    "data_scale = scalar.fit_transform(data_imp)\n",
    "pca = PCA()\n",
    "pca.n_components\n",
    "pca_out = pca.fit(data_scale)\n",
    "data_pca = pca.transform(data_scale)\n",
    "\n",
    "plt.plot(np.cumsum(pca_out.explained_variance_ratio_))\n",
    "plt.xlabel('number of components')\n",
    "plt.ylabel('cumulative explained variance');\n"
   ]
  },
  {
   "cell_type": "code",
   "execution_count": 18,
   "metadata": {},
   "outputs": [
    {
     "name": "stdout",
     "output_type": "stream",
     "text": [
      "99.9800% Variance explained by 45 components\n"
     ]
    }
   ],
   "source": [
    "components = 45\n",
    "pca_n = PCA(n_components=components)\n",
    "pca_n = pca_n.fit(data_scale)\n",
    "print(\"{:3.4f}% Variance explained by {:d} components\".format(pca_n.explained_variance_ratio_.sum()*100,components))"
   ]
  },
  {
   "cell_type": "markdown",
   "metadata": {},
   "source": [
    "We plan to use 32 PCA components for our model; reducing our feature size from 64 to 32 (50% reduction)"
   ]
  },
  {
   "cell_type": "code",
   "execution_count": 19,
   "metadata": {},
   "outputs": [
    {
     "data": {
      "text/plain": [
       "<Figure size 576x432 with 0 Axes>"
      ]
     },
     "execution_count": 19,
     "metadata": {},
     "output_type": "execute_result"
    },
    {
     "data": {
      "text/plain": [
       "<matplotlib.collections.PathCollection at 0x1326bb880>"
      ]
     },
     "execution_count": 19,
     "metadata": {},
     "output_type": "execute_result"
    },
    {
     "data": {
      "image/png": "[encoded data removed]",
      "text/plain": [
       "<Figure size 576x432 with 1 Axes>"
      ]
     },
     "metadata": {
      "needs_background": "light"
     },
     "output_type": "display_data"
    }
   ],
   "source": [
    "plt.figure(figsize =(8, 6))\n",
    "plt.scatter(data_pca[:, 0], data_pca[:, 1],c=y)"
   ]
  },
  {
   "cell_type": "markdown",
   "metadata": {},
   "source": [
    "# Preparing the Data and training the models"
   ]
  },
  {
   "cell_type": "markdown",
   "metadata": {},
   "source": [
    "## Checking how upsampling affects the classifier"
   ]
  },
  {
   "cell_type": "code",
   "execution_count": 20,
   "metadata": {},
   "outputs": [
    {
     "name": "stderr",
     "output_type": "stream",
     "text": [
      "/Users/tejashriprabhu/miniforge3/envs/env_tf/lib/python3.9/site-packages/xgboost/compat.py:36: FutureWarning: pandas.Int64Index is deprecated and will be removed from pandas in a future version. Use pandas.Index with the appropriate dtype instead.\n",
      "  from pandas import MultiIndex, Int64Index\n"
     ]
    }
   ],
   "source": [
    "#Imputer Libraries\n",
    "from sklearn.experimental import enable_iterative_imputer\n",
    "from sklearn.impute import IterativeImputer\n",
    "from sklearn.impute import SimpleImputer\n",
    "\n",
    "from sklearn.model_selection import cross_val_score\n",
    "\n",
    "#PCA libraries\n",
    "from sklearn.preprocessing import StandardScaler\n",
    "from sklearn.decomposition import PCA\n",
    "\n",
    "#Sampling Libraries\n",
    "from imblearn.over_sampling import SMOTE, ADASYN\n",
    "from imblearn.pipeline import Pipeline\n",
    "\n",
    "#Classifier Libraries\n",
    "from sklearn.svm import SVC\n",
    "from sklearn.ensemble import GradientBoostingClassifier\n",
    "from sklearn.ensemble import BaggingClassifier\n",
    "from sklearn.tree import DecisionTreeClassifier\n",
    "from sklearn.ensemble import RandomForestClassifier\n",
    "from sklearn.ensemble import AdaBoostClassifier\n",
    "from sklearn.ensemble import StackingClassifier\n",
    "from sklearn.svm import NuSVC\n",
    "from sklearn.neighbors import KNeighborsClassifier\n",
    "from sklearn.ensemble import ExtraTreesClassifier\n",
    "from sklearn.discriminant_analysis import QuadraticDiscriminantAnalysis\n",
    "from sklearn.ensemble import VotingClassifier\n",
    "from xgboost import XGBClassifier"
   ]
  },
  {
   "cell_type": "markdown",
   "metadata": {},
   "source": [
    "### Gradient Boosting Classifier with SMOTE for Upsampling"
   ]
  },
  {
   "cell_type": "code",
   "execution_count": 21,
   "metadata": {},
   "outputs": [
    {
     "data": {
      "text/plain": [
       "Pipeline(steps=[('Imputer', IterativeImputer(max_iter=100)), ('smote', SMOTE()),\n",
       "                ('scalar', StandardScaler()),\n",
       "                ('GB', GradientBoostingClassifier())])"
      ]
     },
     "execution_count": 21,
     "metadata": {},
     "output_type": "execute_result"
    },
    {
     "name": "stdout",
     "output_type": "stream",
     "text": [
      "Performance Metrics with GB & SMOTE Upsampling\n",
      "\n",
      "Accuracy Score: 0.9450\n",
      "Balanced Accuracy Score: 0.8321\n",
      "Precision Score:0.6049\n",
      "Recall Score:0.7000\n"
     ]
    },
    {
     "data": {
      "text/plain": [
       "<sklearn.metrics._plot.confusion_matrix.ConfusionMatrixDisplay at 0x131ce44c0>"
      ]
     },
     "execution_count": 21,
     "metadata": {},
     "output_type": "execute_result"
    },
    {
     "data": {
      "image/png": "[encoded data removed]",
      "text/plain": [
       "<Figure size 432x288 with 2 Axes>"
      ]
     },
     "metadata": {
      "needs_background": "light"
     },
     "output_type": "display_data"
    },
    {
     "name": "stdout",
     "output_type": "stream",
     "text": [
      "              precision    recall  f1-score   support\n",
      "\n",
      "           0       0.98      0.96      0.97       894\n",
      "           1       0.60      0.70      0.65        70\n",
      "\n",
      "    accuracy                           0.95       964\n",
      "   macro avg       0.79      0.83      0.81       964\n",
      "weighted avg       0.95      0.95      0.95       964\n",
      "\n",
      "\n"
     ]
    }
   ],
   "source": [
    "#Gradient Boosting Classifier with SMOTE (Synthetic Minority Oversampling Technique)\n",
    "X = data.drop(columns = ['Bankrupt','Id'])\n",
    "y = data['Bankrupt']\n",
    "X_train, X_test, y_train, y_test = train_test_split(X, y, test_size=0.2, random_state=42)\n",
    "\n",
    "#Initializing objects\n",
    "Imputer = IterativeImputer(max_iter=100)\n",
    "scalar = StandardScaler()\n",
    "smote = SMOTE()\n",
    "GB = GradientBoostingClassifier()\n",
    "\n",
    "#Creating a pipeline object\n",
    "pipe = Pipeline(steps=[(\"Imputer\",Imputer),(\"smote\",smote),(\"scalar\",scalar),(\"GB\",GB)])\n",
    "#Fitting our training data to the pipeline\n",
    "pipe.fit(X_train,y_train)\n",
    "#Predicting y_test on the pipeline\n",
    "y_pred = pipe.predict(X_test)\n",
    "\n",
    "#Performance Metrics\n",
    "print(\"Performance Metrics with GB & SMOTE Upsampling\\n\")\n",
    "print(\"Accuracy Score: {:3.4f}\".format(accuracy_score(y_test,y_pred)))\n",
    "print(\"Balanced Accuracy Score: {:3.4f}\".format(balanced_accuracy_score(y_test,y_pred)))\n",
    "print(\"Precision Score:{:3.4f}\".format(precision_score(y_test,y_pred)))\n",
    "print(\"Recall Score:{:3.4f}\".format(recall_score(y_test,y_pred)))\n",
    "disp = ConfusionMatrixDisplay(confusion_matrix=confusion_matrix(y_test,y_pred))\n",
    "disp.plot()\n",
    "plt.show()\n",
    "print( f\"{classification_report(y_test,y_pred)}\\n\")"
   ]
  },
  {
   "cell_type": "markdown",
   "metadata": {},
   "source": [
    "### Gradient Boosting Classifier with ADASYN for Upsampling"
   ]
  },
  {
   "cell_type": "code",
   "execution_count": 22,
   "metadata": {},
   "outputs": [
    {
     "data": {
      "text/plain": [
       "Pipeline(steps=[('Imputer', IterativeImputer(max_iter=100)),\n",
       "                ('ADASYN', ADASYN()), ('scalar', StandardScaler()),\n",
       "                ('GB', GradientBoostingClassifier())])"
      ]
     },
     "execution_count": 22,
     "metadata": {},
     "output_type": "execute_result"
    },
    {
     "name": "stdout",
     "output_type": "stream",
     "text": [
      "Performance Metrics with GB & ADASYN Upsampling\n",
      "\n",
      "Accuracy Score: 0.9357\n",
      "Balanced Accuracy Score: 0.8205\n",
      "Precision Score:0.5455\n",
      "Recall Score:0.6857\n"
     ]
    },
    {
     "data": {
      "text/plain": [
       "<sklearn.metrics._plot.confusion_matrix.ConfusionMatrixDisplay at 0x1324bc100>"
      ]
     },
     "execution_count": 22,
     "metadata": {},
     "output_type": "execute_result"
    },
    {
     "data": {
      "image/png": "[encoded data removed]",
      "text/plain": [
       "<Figure size 432x288 with 2 Axes>"
      ]
     },
     "metadata": {
      "needs_background": "light"
     },
     "output_type": "display_data"
    },
    {
     "name": "stdout",
     "output_type": "stream",
     "text": [
      "              precision    recall  f1-score   support\n",
      "\n",
      "           0       0.97      0.96      0.96       894\n",
      "           1       0.55      0.69      0.61        70\n",
      "\n",
      "    accuracy                           0.94       964\n",
      "   macro avg       0.76      0.82      0.79       964\n",
      "weighted avg       0.94      0.94      0.94       964\n",
      "\n",
      "\n"
     ]
    }
   ],
   "source": [
    "#Gradient Boosting Classifier with ADASYN (Adaptive Synthetic Sampling Approach)\n",
    "\n",
    "X = data.drop(columns = ['Bankrupt','Id'])\n",
    "y = data['Bankrupt']\n",
    "X_train, X_test, y_train, y_test = train_test_split(X, y, test_size=0.2, random_state=42)\n",
    "\n",
    "#Initializing objects\n",
    "Imputer = IterativeImputer(max_iter=100)\n",
    "adasyn = ADASYN()\n",
    "scalar = StandardScaler()\n",
    "GB = GradientBoostingClassifier()\n",
    "\n",
    "#Creating a pipeline object\n",
    "pipe = Pipeline(steps=[(\"Imputer\",Imputer),(\"ADASYN\",adasyn),(\"scalar\",scalar),(\"GB\",GB)])\n",
    "#Fitting our training data to the pipeline\n",
    "pipe.fit(X_train,y_train)\n",
    "#Predicting y_test on the pipeline\n",
    "y_pred = pipe.predict(X_test)\n",
    "\n",
    "#Performance Metrics\n",
    "print(\"Performance Metrics with GB & ADASYN Upsampling\\n\")\n",
    "print(\"Accuracy Score: {:3.4f}\".format(accuracy_score(y_test,y_pred)))\n",
    "print(\"Balanced Accuracy Score: {:3.4f}\".format(balanced_accuracy_score(y_test,y_pred)))\n",
    "print(\"Precision Score:{:3.4f}\".format(precision_score(y_test,y_pred)))\n",
    "print(\"Recall Score:{:3.4f}\".format(recall_score(y_test,y_pred)))\n",
    "disp = ConfusionMatrixDisplay(confusion_matrix=confusion_matrix(y_test,y_pred))\n",
    "disp.plot()\n",
    "plt.show()\n",
    "print(f\"{classification_report(y_test,y_pred)}\\n\")"
   ]
  },
  {
   "cell_type": "markdown",
   "metadata": {},
   "source": [
    "### Gradient Boosting Classifier without Upsampling"
   ]
  },
  {
   "cell_type": "code",
   "execution_count": 23,
   "metadata": {},
   "outputs": [
    {
     "data": {
      "text/plain": [
       "Pipeline(steps=[('Imputer', IterativeImputer(max_iter=100)),\n",
       "                ('scalar', StandardScaler()),\n",
       "                ('GB', GradientBoostingClassifier())])"
      ]
     },
     "execution_count": 23,
     "metadata": {},
     "output_type": "execute_result"
    },
    {
     "name": "stdout",
     "output_type": "stream",
     "text": [
      "Performance Metrics GB without Upsampling\n",
      "\n",
      "Accuracy Score: 0.9523\n",
      "Balanced Accuracy Score: 0.7109\n",
      "Precision Score:0.8333\n",
      "Recall Score:0.4286\n"
     ]
    },
    {
     "data": {
      "text/plain": [
       "<sklearn.metrics._plot.confusion_matrix.ConfusionMatrixDisplay at 0x1346e2970>"
      ]
     },
     "execution_count": 23,
     "metadata": {},
     "output_type": "execute_result"
    },
    {
     "data": {
      "image/png": "[encoded data removed]",
      "text/plain": [
       "<Figure size 432x288 with 2 Axes>"
      ]
     },
     "metadata": {
      "needs_background": "light"
     },
     "output_type": "display_data"
    },
    {
     "name": "stdout",
     "output_type": "stream",
     "text": [
      "              precision    recall  f1-score   support\n",
      "\n",
      "           0       0.96      0.99      0.97       894\n",
      "           1       0.83      0.43      0.57        70\n",
      "\n",
      "    accuracy                           0.95       964\n",
      "   macro avg       0.90      0.71      0.77       964\n",
      "weighted avg       0.95      0.95      0.95       964\n",
      "\n",
      "\n"
     ]
    }
   ],
   "source": [
    "#Gradient Boosting Classifier without Upsampling\n",
    "\n",
    "X = data.drop(columns = ['Bankrupt','Id'])\n",
    "y = data['Bankrupt']\n",
    "X_train, X_test, y_train, y_test = train_test_split(X, y, test_size=0.2, random_state=42)\n",
    "\n",
    "#Initializing objects\n",
    "Imputer = IterativeImputer(max_iter=100)\n",
    "scalar = StandardScaler()\n",
    "GB = GradientBoostingClassifier()\n",
    "\n",
    "#Creating a pipeline object\n",
    "pipe = Pipeline(steps=[(\"Imputer\",Imputer),(\"scalar\",scalar),(\"GB\",GB)])\n",
    "#Fitting our training data to the pipeline\n",
    "pipe.fit(X_train,y_train)\n",
    "#Predicting y_test on the pipeline\n",
    "y_pred = pipe.predict(X_test)\n",
    "\n",
    "#Performance Metrics\n",
    "print(\"Performance Metrics GB without Upsampling\\n\")\n",
    "print(\"Accuracy Score: {:3.4f}\".format(accuracy_score(y_test,y_pred)))\n",
    "print(\"Balanced Accuracy Score: {:3.4f}\".format(balanced_accuracy_score(y_test,y_pred)))\n",
    "print(\"Precision Score:{:3.4f}\".format(precision_score(y_test,y_pred)))\n",
    "print(\"Recall Score:{:3.4f}\".format(recall_score(y_test,y_pred)))\n",
    "disp = ConfusionMatrixDisplay(confusion_matrix=confusion_matrix(y_test,y_pred))\n",
    "disp.plot()\n",
    "plt.show()\n",
    "print( f\"{classification_report(y_test,y_pred)}\\n\")"
   ]
  },
  {
   "cell_type": "markdown",
   "metadata": {},
   "source": [
    "### If upsampling is not performed, the minority class (Bankrupt) is mislabelled much more, which causes the recall to drop as the False Negatives increases significantly"
   ]
  },
  {
   "cell_type": "markdown",
   "metadata": {},
   "source": [
    "## Checking how PCA impacts classifiers"
   ]
  },
  {
   "cell_type": "markdown",
   "metadata": {},
   "source": [
    "### Without PCA: Iteration of multiple classifiers with imputing, upsampling and standard scaling"
   ]
  },
  {
   "cell_type": "code",
   "execution_count": 24,
   "metadata": {},
   "outputs": [
    {
     "data": {
      "text/plain": [
       "Pipeline(steps=[('Imputer', IterativeImputer(max_iter=100)),\n",
       "                ('ADASYN', ADASYN()), ('Scalar', StandardScaler()),\n",
       "                ('clf', AdaBoostClassifier())])"
      ]
     },
     "execution_count": 24,
     "metadata": {},
     "output_type": "execute_result"
    },
    {
     "name": "stdout",
     "output_type": "stream",
     "text": [
      "ADA\n",
      "Accuracy Score: 0.8994\n",
      "Balanced Accuracy Score: 0.7548\n",
      "Precision Score:0.3761\n",
      "Recall Score:0.5857\n"
     ]
    },
    {
     "data": {
      "text/plain": [
       "<sklearn.metrics._plot.confusion_matrix.ConfusionMatrixDisplay at 0x134ac0b50>"
      ]
     },
     "execution_count": 24,
     "metadata": {},
     "output_type": "execute_result"
    },
    {
     "data": {
      "image/png": "[encoded data removed]",
      "text/plain": [
       "<Figure size 432x288 with 2 Axes>"
      ]
     },
     "metadata": {
      "needs_background": "light"
     },
     "output_type": "display_data"
    },
    {
     "name": "stdout",
     "output_type": "stream",
     "text": [
      "              precision    recall  f1-score   support\n",
      "\n",
      "           0       0.97      0.92      0.94       894\n",
      "           1       0.38      0.59      0.46        70\n",
      "\n",
      "    accuracy                           0.90       964\n",
      "   macro avg       0.67      0.75      0.70       964\n",
      "weighted avg       0.92      0.90      0.91       964\n",
      "\n",
      "\n"
     ]
    },
    {
     "data": {
      "text/plain": [
       "Pipeline(steps=[('Imputer', IterativeImputer(max_iter=100)),\n",
       "                ('ADASYN', ADASYN()), ('Scalar', StandardScaler()),\n",
       "                ('clf', RandomForestClassifier())])"
      ]
     },
     "execution_count": 24,
     "metadata": {},
     "output_type": "execute_result"
    },
    {
     "name": "stdout",
     "output_type": "stream",
     "text": [
      "RF\n",
      "Accuracy Score: 0.9367\n",
      "Balanced Accuracy Score: 0.7091\n",
      "Precision Score:0.5849\n",
      "Recall Score:0.4429\n"
     ]
    },
    {
     "data": {
      "text/plain": [
       "<sklearn.metrics._plot.confusion_matrix.ConfusionMatrixDisplay at 0x134e89190>"
      ]
     },
     "execution_count": 24,
     "metadata": {},
     "output_type": "execute_result"
    },
    {
     "data": {
      "image/png": "[encoded data removed]",
      "text/plain": [
       "<Figure size 432x288 with 2 Axes>"
      ]
     },
     "metadata": {
      "needs_background": "light"
     },
     "output_type": "display_data"
    },
    {
     "name": "stdout",
     "output_type": "stream",
     "text": [
      "              precision    recall  f1-score   support\n",
      "\n",
      "           0       0.96      0.98      0.97       894\n",
      "           1       0.58      0.44      0.50        70\n",
      "\n",
      "    accuracy                           0.94       964\n",
      "   macro avg       0.77      0.71      0.74       964\n",
      "weighted avg       0.93      0.94      0.93       964\n",
      "\n",
      "\n"
     ]
    },
    {
     "data": {
      "text/plain": [
       "Pipeline(steps=[('Imputer', IterativeImputer(max_iter=100)),\n",
       "                ('ADASYN', ADASYN()), ('Scalar', StandardScaler()),\n",
       "                ('clf', GaussianNB())])"
      ]
     },
     "execution_count": 24,
     "metadata": {},
     "output_type": "execute_result"
    },
    {
     "name": "stdout",
     "output_type": "stream",
     "text": [
      "GB\n",
      "Accuracy Score: 0.1712\n",
      "Balanced Accuracy Score: 0.5268\n",
      "Precision Score:0.0767\n",
      "Recall Score:0.9429\n"
     ]
    },
    {
     "data": {
      "text/plain": [
       "<sklearn.metrics._plot.confusion_matrix.ConfusionMatrixDisplay at 0x1344d71f0>"
      ]
     },
     "execution_count": 24,
     "metadata": {},
     "output_type": "execute_result"
    },
    {
     "data": {
      "image/png": "[encoded data removed]",
      "text/plain": [
       "<Figure size 432x288 with 2 Axes>"
      ]
     },
     "metadata": {
      "needs_background": "light"
     },
     "output_type": "display_data"
    },
    {
     "name": "stdout",
     "output_type": "stream",
     "text": [
      "              precision    recall  f1-score   support\n",
      "\n",
      "           0       0.96      0.11      0.20       894\n",
      "           1       0.08      0.94      0.14        70\n",
      "\n",
      "    accuracy                           0.17       964\n",
      "   macro avg       0.52      0.53      0.17       964\n",
      "weighted avg       0.90      0.17      0.19       964\n",
      "\n",
      "\n"
     ]
    },
    {
     "data": {
      "text/plain": [
       "Pipeline(steps=[('Imputer', IterativeImputer(max_iter=100)),\n",
       "                ('ADASYN', ADASYN()), ('Scalar', StandardScaler()),\n",
       "                ('clf', BaggingClassifier())])"
      ]
     },
     "execution_count": 24,
     "metadata": {},
     "output_type": "execute_result"
    },
    {
     "name": "stdout",
     "output_type": "stream",
     "text": [
      "BC\n",
      "Accuracy Score: 0.9253\n",
      "Balanced Accuracy Score: 0.7622\n",
      "Precision Score:0.4878\n",
      "Recall Score:0.5714\n"
     ]
    },
    {
     "data": {
      "text/plain": [
       "<sklearn.metrics._plot.confusion_matrix.ConfusionMatrixDisplay at 0x134e7e7f0>"
      ]
     },
     "execution_count": 24,
     "metadata": {},
     "output_type": "execute_result"
    },
    {
     "data": {
      "image/png": "[encoded data removed]",
      "text/plain": [
       "<Figure size 432x288 with 2 Axes>"
      ]
     },
     "metadata": {
      "needs_background": "light"
     },
     "output_type": "display_data"
    },
    {
     "name": "stdout",
     "output_type": "stream",
     "text": [
      "              precision    recall  f1-score   support\n",
      "\n",
      "           0       0.97      0.95      0.96       894\n",
      "           1       0.49      0.57      0.53        70\n",
      "\n",
      "    accuracy                           0.93       964\n",
      "   macro avg       0.73      0.76      0.74       964\n",
      "weighted avg       0.93      0.93      0.93       964\n",
      "\n",
      "\n"
     ]
    },
    {
     "data": {
      "text/plain": [
       "Pipeline(steps=[('Imputer', IterativeImputer(max_iter=100)),\n",
       "                ('ADASYN', ADASYN()), ('Scalar', StandardScaler()),\n",
       "                ('clf', KNeighborsClassifier())])"
      ]
     },
     "execution_count": 24,
     "metadata": {},
     "output_type": "execute_result"
    },
    {
     "name": "stdout",
     "output_type": "stream",
     "text": [
      "kN\n",
      "Accuracy Score: 0.8216\n",
      "Balanced Accuracy Score: 0.6800\n",
      "Precision Score:0.2069\n",
      "Recall Score:0.5143\n"
     ]
    },
    {
     "data": {
      "text/plain": [
       "<sklearn.metrics._plot.confusion_matrix.ConfusionMatrixDisplay at 0x134abfbb0>"
      ]
     },
     "execution_count": 24,
     "metadata": {},
     "output_type": "execute_result"
    },
    {
     "data": {
      "image/png": "[encoded data removed]",
      "text/plain": [
       "<Figure size 432x288 with 2 Axes>"
      ]
     },
     "metadata": {
      "needs_background": "light"
     },
     "output_type": "display_data"
    },
    {
     "name": "stdout",
     "output_type": "stream",
     "text": [
      "              precision    recall  f1-score   support\n",
      "\n",
      "           0       0.96      0.85      0.90       894\n",
      "           1       0.21      0.51      0.30        70\n",
      "\n",
      "    accuracy                           0.82       964\n",
      "   macro avg       0.58      0.68      0.60       964\n",
      "weighted avg       0.90      0.82      0.85       964\n",
      "\n",
      "\n"
     ]
    },
    {
     "data": {
      "text/plain": [
       "Pipeline(steps=[('Imputer', IterativeImputer(max_iter=100)),\n",
       "                ('ADASYN', ADASYN()), ('Scalar', StandardScaler()),\n",
       "                ('clf', SVC())])"
      ]
     },
     "execution_count": 24,
     "metadata": {},
     "output_type": "execute_result"
    },
    {
     "name": "stdout",
     "output_type": "stream",
     "text": [
      "SVC\n",
      "Accuracy Score: 0.8102\n",
      "Balanced Accuracy Score: 0.7265\n",
      "Precision Score:0.2189\n",
      "Recall Score:0.6286\n"
     ]
    },
    {
     "data": {
      "text/plain": [
       "<sklearn.metrics._plot.confusion_matrix.ConfusionMatrixDisplay at 0x1346dc3a0>"
      ]
     },
     "execution_count": 24,
     "metadata": {},
     "output_type": "execute_result"
    },
    {
     "data": {
      "image/png": "[encoded data removed]",
      "text/plain": [
       "<Figure size 432x288 with 2 Axes>"
      ]
     },
     "metadata": {
      "needs_background": "light"
     },
     "output_type": "display_data"
    },
    {
     "name": "stdout",
     "output_type": "stream",
     "text": [
      "              precision    recall  f1-score   support\n",
      "\n",
      "           0       0.97      0.82      0.89       894\n",
      "           1       0.22      0.63      0.32        70\n",
      "\n",
      "    accuracy                           0.81       964\n",
      "   macro avg       0.59      0.73      0.61       964\n",
      "weighted avg       0.91      0.81      0.85       964\n",
      "\n",
      "\n"
     ]
    },
    {
     "name": "stderr",
     "output_type": "stream",
     "text": [
      "/Users/tejashriprabhu/miniforge3/envs/env_tf/lib/python3.9/site-packages/sklearn/discriminant_analysis.py:878: UserWarning: Variables are collinear\n",
      "  warnings.warn(\"Variables are collinear\")\n"
     ]
    },
    {
     "data": {
      "text/plain": [
       "Pipeline(steps=[('Imputer', IterativeImputer(max_iter=100)),\n",
       "                ('ADASYN', ADASYN()), ('Scalar', StandardScaler()),\n",
       "                ('clf', QuadraticDiscriminantAnalysis())])"
      ]
     },
     "execution_count": 24,
     "metadata": {},
     "output_type": "execute_result"
    },
    {
     "name": "stdout",
     "output_type": "stream",
     "text": [
      "QDA\n",
      "Accuracy Score: 0.2614\n",
      "Balanced Accuracy Score: 0.5228\n",
      "Precision Score:0.0765\n",
      "Recall Score:0.8286\n"
     ]
    },
    {
     "data": {
      "text/plain": [
       "<sklearn.metrics._plot.confusion_matrix.ConfusionMatrixDisplay at 0x13242e640>"
      ]
     },
     "execution_count": 24,
     "metadata": {},
     "output_type": "execute_result"
    },
    {
     "data": {
      "image/png": "[encoded data removed]",
      "text/plain": [
       "<Figure size 432x288 with 2 Axes>"
      ]
     },
     "metadata": {
      "needs_background": "light"
     },
     "output_type": "display_data"
    },
    {
     "name": "stdout",
     "output_type": "stream",
     "text": [
      "              precision    recall  f1-score   support\n",
      "\n",
      "           0       0.94      0.22      0.35       894\n",
      "           1       0.08      0.83      0.14        70\n",
      "\n",
      "    accuracy                           0.26       964\n",
      "   macro avg       0.51      0.52      0.25       964\n",
      "weighted avg       0.88      0.26      0.34       964\n",
      "\n",
      "\n"
     ]
    }
   ],
   "source": [
    "#Non-PCA Iteration of multiple classifiers with imputing, upsampling and standard scaling\n",
    "from sklearn.discriminant_analysis import QuadraticDiscriminantAnalysis\n",
    "from sklearn.ensemble import VotingClassifier\n",
    "from sklearn.metrics import classification_report\n",
    "\n",
    "X = data.drop(columns = ['Bankrupt','Id'])\n",
    "y = data['Bankrupt']\n",
    "X_train, X_test, y_train, y_test = train_test_split(X, y, test_size=0.2, random_state=42)\n",
    "\n",
    "#Creating multiple classifier objects\n",
    "\n",
    "Imputer = IterativeImputer(max_iter=100)\n",
    "adasyn = ADASYN()\n",
    "scalar = StandardScaler()\n",
    "pca = PCA(n_components=45)\n",
    "clf1 = AdaBoostClassifier()\n",
    "clf2 = RandomForestClassifier()\n",
    "clf3 = GaussianNB()\n",
    "clf4 = BaggingClassifier()\n",
    "clf5 = KNeighborsClassifier()\n",
    "clf6 = SVC()\n",
    "clf7 = QuadraticDiscriminantAnalysis()\n",
    "\n",
    "#Creating a pipeline object\n",
    "\n",
    "for name, clf in {\"ADA\":clf1,\"RF\":clf2,\"GB\":clf3,\"BC\":clf4,\"kN\":clf5,\"SVC\":clf6,'QDA':clf7}.items():\n",
    "    pipe = Pipeline(steps=[(\"Imputer\",Imputer),(\"ADASYN\",adasyn),(\"Scalar\",scalar),(\"clf\",clf)])\n",
    "    #Fitting our training data to the pipeline\n",
    "    pipe.fit(X_train,y_train)\n",
    "    #Predicting y_test on the pipeline\n",
    "    y_pred = pipe.predict(X_test)\n",
    "    print(name)\n",
    "    print(\"Accuracy Score: {:3.4f}\".format(accuracy_score(y_test,y_pred)))\n",
    "    print(\"Balanced Accuracy Score: {:3.4f}\".format(balanced_accuracy_score(y_test,y_pred)))\n",
    "    print(\"Precision Score:{:3.4f}\".format(precision_score(y_test,y_pred)))\n",
    "    print(\"Recall Score:{:3.4f}\".format(recall_score(y_test,y_pred)))\n",
    "    disp = ConfusionMatrixDisplay(confusion_matrix=confusion_matrix(y_test,y_pred))\n",
    "    disp.plot()\n",
    "    plt.show()\n",
    "    print(f\"{classification_report(y_test,y_pred)}\\n\")"
   ]
  },
  {
   "cell_type": "markdown",
   "metadata": {},
   "source": [
    "### With PCA: Iteration of multiple classifiers with imputing, upsampling and standard scaling"
   ]
  },
  {
   "cell_type": "code",
   "execution_count": 25,
   "metadata": {},
   "outputs": [
    {
     "data": {
      "text/plain": [
       "Pipeline(steps=[('Imputer', IterativeImputer(max_iter=100)),\n",
       "                ('ADASYN', ADASYN()), ('Scalar', StandardScaler()),\n",
       "                ('pca', PCA(n_components=45)), ('clf', AdaBoostClassifier())])"
      ]
     },
     "execution_count": 25,
     "metadata": {},
     "output_type": "execute_result"
    },
    {
     "name": "stdout",
     "output_type": "stream",
     "text": [
      "ADA\n",
      "Accuracy Score: 0.8371\n",
      "Balanced Accuracy Score: 0.7279\n",
      "Precision Score:0.2456\n",
      "Recall Score:0.6000\n"
     ]
    },
    {
     "data": {
      "text/plain": [
       "<sklearn.metrics._plot.confusion_matrix.ConfusionMatrixDisplay at 0x1346dc3a0>"
      ]
     },
     "execution_count": 25,
     "metadata": {},
     "output_type": "execute_result"
    },
    {
     "data": {
      "image/png": "[encoded data removed]",
      "text/plain": [
       "<Figure size 432x288 with 2 Axes>"
      ]
     },
     "metadata": {
      "needs_background": "light"
     },
     "output_type": "display_data"
    },
    {
     "name": "stdout",
     "output_type": "stream",
     "text": [
      "              precision    recall  f1-score   support\n",
      "\n",
      "           0       0.96      0.86      0.91       894\n",
      "           1       0.25      0.60      0.35        70\n",
      "\n",
      "    accuracy                           0.84       964\n",
      "   macro avg       0.61      0.73      0.63       964\n",
      "weighted avg       0.91      0.84      0.87       964\n",
      "\n",
      "\n"
     ]
    },
    {
     "data": {
      "text/plain": [
       "Pipeline(steps=[('Imputer', IterativeImputer(max_iter=100)),\n",
       "                ('ADASYN', ADASYN()), ('Scalar', StandardScaler()),\n",
       "                ('pca', PCA(n_components=45)),\n",
       "                ('clf', RandomForestClassifier())])"
      ]
     },
     "execution_count": 25,
     "metadata": {},
     "output_type": "execute_result"
    },
    {
     "name": "stdout",
     "output_type": "stream",
     "text": [
      "RF\n",
      "Accuracy Score: 0.9118\n",
      "Balanced Accuracy Score: 0.6760\n",
      "Precision Score:0.3944\n",
      "Recall Score:0.4000\n"
     ]
    },
    {
     "data": {
      "text/plain": [
       "<sklearn.metrics._plot.confusion_matrix.ConfusionMatrixDisplay at 0x1319c7430>"
      ]
     },
     "execution_count": 25,
     "metadata": {},
     "output_type": "execute_result"
    },
    {
     "data": {
      "image/png": "[encoded data removed]",
      "text/plain": [
       "<Figure size 432x288 with 2 Axes>"
      ]
     },
     "metadata": {
      "needs_background": "light"
     },
     "output_type": "display_data"
    },
    {
     "name": "stdout",
     "output_type": "stream",
     "text": [
      "              precision    recall  f1-score   support\n",
      "\n",
      "           0       0.95      0.95      0.95       894\n",
      "           1       0.39      0.40      0.40        70\n",
      "\n",
      "    accuracy                           0.91       964\n",
      "   macro avg       0.67      0.68      0.67       964\n",
      "weighted avg       0.91      0.91      0.91       964\n",
      "\n",
      "\n"
     ]
    },
    {
     "data": {
      "text/plain": [
       "Pipeline(steps=[('Imputer', IterativeImputer(max_iter=100)),\n",
       "                ('ADASYN', ADASYN()), ('Scalar', StandardScaler()),\n",
       "                ('pca', PCA(n_components=45)), ('clf', GaussianNB())])"
      ]
     },
     "execution_count": 25,
     "metadata": {},
     "output_type": "execute_result"
    },
    {
     "name": "stdout",
     "output_type": "stream",
     "text": [
      "GB\n",
      "Accuracy Score: 0.1286\n",
      "Balanced Accuracy Score: 0.4775\n",
      "Precision Score:0.0694\n",
      "Recall Score:0.8857\n"
     ]
    },
    {
     "data": {
      "text/plain": [
       "<sklearn.metrics._plot.confusion_matrix.ConfusionMatrixDisplay at 0x137a18580>"
      ]
     },
     "execution_count": 25,
     "metadata": {},
     "output_type": "execute_result"
    },
    {
     "data": {
      "image/png": "[encoded data removed]",
      "text/plain": [
       "<Figure size 432x288 with 2 Axes>"
      ]
     },
     "metadata": {
      "needs_background": "light"
     },
     "output_type": "display_data"
    },
    {
     "name": "stdout",
     "output_type": "stream",
     "text": [
      "              precision    recall  f1-score   support\n",
      "\n",
      "           0       0.89      0.07      0.13       894\n",
      "           1       0.07      0.89      0.13        70\n",
      "\n",
      "    accuracy                           0.13       964\n",
      "   macro avg       0.48      0.48      0.13       964\n",
      "weighted avg       0.83      0.13      0.13       964\n",
      "\n",
      "\n"
     ]
    },
    {
     "data": {
      "text/plain": [
       "Pipeline(steps=[('Imputer', IterativeImputer(max_iter=100)),\n",
       "                ('ADASYN', ADASYN()), ('Scalar', StandardScaler()),\n",
       "                ('pca', PCA(n_components=45)), ('clf', BaggingClassifier())])"
      ]
     },
     "execution_count": 25,
     "metadata": {},
     "output_type": "execute_result"
    },
    {
     "name": "stdout",
     "output_type": "stream",
     "text": [
      "BC\n",
      "Accuracy Score: 0.8932\n",
      "Balanced Accuracy Score: 0.6461\n",
      "Precision Score:0.3012\n",
      "Recall Score:0.3571\n"
     ]
    },
    {
     "data": {
      "text/plain": [
       "<sklearn.metrics._plot.confusion_matrix.ConfusionMatrixDisplay at 0x1030ee4f0>"
      ]
     },
     "execution_count": 25,
     "metadata": {},
     "output_type": "execute_result"
    },
    {
     "data": {
      "image/png": "[encoded data removed]",
      "text/plain": [
       "<Figure size 432x288 with 2 Axes>"
      ]
     },
     "metadata": {
      "needs_background": "light"
     },
     "output_type": "display_data"
    },
    {
     "name": "stdout",
     "output_type": "stream",
     "text": [
      "              precision    recall  f1-score   support\n",
      "\n",
      "           0       0.95      0.94      0.94       894\n",
      "           1       0.30      0.36      0.33        70\n",
      "\n",
      "    accuracy                           0.89       964\n",
      "   macro avg       0.63      0.65      0.63       964\n",
      "weighted avg       0.90      0.89      0.90       964\n",
      "\n",
      "\n"
     ]
    },
    {
     "data": {
      "text/plain": [
       "Pipeline(steps=[('Imputer', IterativeImputer(max_iter=100)),\n",
       "                ('ADASYN', ADASYN()), ('Scalar', StandardScaler()),\n",
       "                ('pca', PCA(n_components=45)),\n",
       "                ('clf', KNeighborsClassifier())])"
      ]
     },
     "execution_count": 25,
     "metadata": {},
     "output_type": "execute_result"
    },
    {
     "name": "stdout",
     "output_type": "stream",
     "text": [
      "kN\n",
      "Accuracy Score: 0.8371\n",
      "Balanced Accuracy Score: 0.6620\n",
      "Precision Score:0.2119\n",
      "Recall Score:0.4571\n"
     ]
    },
    {
     "data": {
      "text/plain": [
       "<sklearn.metrics._plot.confusion_matrix.ConfusionMatrixDisplay at 0x132348b50>"
      ]
     },
     "execution_count": 25,
     "metadata": {},
     "output_type": "execute_result"
    },
    {
     "data": {
      "image/png": "[encoded data removed]",
      "text/plain": [
       "<Figure size 432x288 with 2 Axes>"
      ]
     },
     "metadata": {
      "needs_background": "light"
     },
     "output_type": "display_data"
    },
    {
     "name": "stdout",
     "output_type": "stream",
     "text": [
      "              precision    recall  f1-score   support\n",
      "\n",
      "           0       0.95      0.87      0.91       894\n",
      "           1       0.21      0.46      0.29        70\n",
      "\n",
      "    accuracy                           0.84       964\n",
      "   macro avg       0.58      0.66      0.60       964\n",
      "weighted avg       0.90      0.84      0.86       964\n",
      "\n",
      "\n"
     ]
    },
    {
     "data": {
      "text/plain": [
       "Pipeline(steps=[('Imputer', IterativeImputer(max_iter=100)),\n",
       "                ('ADASYN', ADASYN()), ('Scalar', StandardScaler()),\n",
       "                ('pca', PCA(n_components=45)), ('clf', SVC())])"
      ]
     },
     "execution_count": 25,
     "metadata": {},
     "output_type": "execute_result"
    },
    {
     "name": "stdout",
     "output_type": "stream",
     "text": [
      "SVC\n",
      "Accuracy Score: 0.8091\n",
      "Balanced Accuracy Score: 0.7325\n",
      "Precision Score:0.2206\n",
      "Recall Score:0.6429\n"
     ]
    },
    {
     "data": {
      "text/plain": [
       "<sklearn.metrics._plot.confusion_matrix.ConfusionMatrixDisplay at 0x137bb7970>"
      ]
     },
     "execution_count": 25,
     "metadata": {},
     "output_type": "execute_result"
    },
    {
     "data": {
      "image/png": "[encoded data removed]",
      "text/plain": [
       "<Figure size 432x288 with 2 Axes>"
      ]
     },
     "metadata": {
      "needs_background": "light"
     },
     "output_type": "display_data"
    },
    {
     "name": "stdout",
     "output_type": "stream",
     "text": [
      "              precision    recall  f1-score   support\n",
      "\n",
      "           0       0.97      0.82      0.89       894\n",
      "           1       0.22      0.64      0.33        70\n",
      "\n",
      "    accuracy                           0.81       964\n",
      "   macro avg       0.59      0.73      0.61       964\n",
      "weighted avg       0.91      0.81      0.85       964\n",
      "\n",
      "\n"
     ]
    },
    {
     "data": {
      "text/plain": [
       "Pipeline(steps=[('Imputer', IterativeImputer(max_iter=100)),\n",
       "                ('ADASYN', ADASYN()), ('Scalar', StandardScaler()),\n",
       "                ('pca', PCA(n_components=45)),\n",
       "                ('clf', QuadraticDiscriminantAnalysis())])"
      ]
     },
     "execution_count": 25,
     "metadata": {},
     "output_type": "execute_result"
    },
    {
     "name": "stdout",
     "output_type": "stream",
     "text": [
      "QDA\n",
      "Accuracy Score: 0.2137\n",
      "Balanced Accuracy Score: 0.5102\n",
      "Precision Score:0.0743\n",
      "Recall Score:0.8571\n"
     ]
    },
    {
     "data": {
      "text/plain": [
       "<sklearn.metrics._plot.confusion_matrix.ConfusionMatrixDisplay at 0x132348b50>"
      ]
     },
     "execution_count": 25,
     "metadata": {},
     "output_type": "execute_result"
    },
    {
     "data": {
      "image/png": "[encoded data removed]",
      "text/plain": [
       "<Figure size 432x288 with 2 Axes>"
      ]
     },
     "metadata": {
      "needs_background": "light"
     },
     "output_type": "display_data"
    },
    {
     "name": "stdout",
     "output_type": "stream",
     "text": [
      "              precision    recall  f1-score   support\n",
      "\n",
      "           0       0.94      0.16      0.28       894\n",
      "           1       0.07      0.86      0.14        70\n",
      "\n",
      "    accuracy                           0.21       964\n",
      "   macro avg       0.51      0.51      0.21       964\n",
      "weighted avg       0.87      0.21      0.27       964\n",
      "\n",
      "\n"
     ]
    }
   ],
   "source": [
    "#Iterating over a list of classifiers \n",
    "\n",
    "\n",
    "X = data.drop(columns = ['Bankrupt','Id'])\n",
    "y = data['Bankrupt']\n",
    "X_train, X_test, y_train, y_test = train_test_split(X, y, test_size=0.2, random_state=42)\n",
    "\n",
    "\n",
    "Imputer = IterativeImputer(max_iter=100)\n",
    "adasyn = ADASYN()\n",
    "scalar = StandardScaler()\n",
    "pca = PCA(n_components=45)\n",
    "clf1 = AdaBoostClassifier()\n",
    "clf2 = RandomForestClassifier()\n",
    "clf3 = GaussianNB()\n",
    "clf4 = BaggingClassifier()\n",
    "clf5 = KNeighborsClassifier()\n",
    "clf6 = SVC()\n",
    "clf7 = QuadraticDiscriminantAnalysis()\n",
    "\n",
    "#Creating a pipeline object\n",
    "\n",
    "\n",
    "for name, clf in {\"ADA\":clf1,\"RF\":clf2,\"GB\":clf3,\"BC\":clf4,\"kN\":clf5,\"SVC\":clf6,'QDA':clf7}.items():\n",
    "    pipe = Pipeline(steps=[(\"Imputer\",Imputer),(\"ADASYN\",adasyn),(\"Scalar\",scalar),('pca',pca),(\"clf\",clf)])\n",
    "    #Fitting our training data to the pipeline\n",
    "    pipe.fit(X_train,y_train)\n",
    "    #Predicting y_test on the pipeline\n",
    "    y_pred = pipe.predict(X_test)\n",
    "    print(name)\n",
    "    print(\"Accuracy Score: {:3.4f}\".format(accuracy_score(y_test,y_pred)))\n",
    "    print(\"Balanced Accuracy Score: {:3.4f}\".format(balanced_accuracy_score(y_test,y_pred)))\n",
    "    print(\"Precision Score:{:3.4f}\".format(precision_score(y_test,y_pred)))\n",
    "    print(\"Recall Score:{:3.4f}\".format(recall_score(y_test,y_pred)))\n",
    "    disp = ConfusionMatrixDisplay(confusion_matrix=confusion_matrix(y_test,y_pred))\n",
    "    disp.plot()\n",
    "    plt.show()\n",
    "    print(f\"{classification_report(y_test,y_pred)}\\n\")"
   ]
  },
  {
   "cell_type": "markdown",
   "metadata": {},
   "source": [
    "### As we can see, PCA is not improving the model performance, and hence, we can remove PCA from our transformation step"
   ]
  },
  {
   "cell_type": "markdown",
   "metadata": {},
   "source": [
    "## Stacking Classifier"
   ]
  },
  {
   "cell_type": "markdown",
   "metadata": {},
   "source": [
    "This classifier allows a stack of classifiers with a finaal classifier. Stacking allows to use the strength of each individual estimator by using their output as input of a final estimator. (https://scikit-learn.org/stable/modules/generated/sklearn.ensemble.StackingClassifier.html)"
   ]
  },
  {
   "cell_type": "markdown",
   "metadata": {},
   "source": [
    "Based on this paper (https://storm.cis.fordham.edu/~gweiss/papers/icdata-2019-imbalanced.pdf), Decision Tree, ADABoost and Gradient Boosting perform best as compared to other classifiers in event of data imbalance"
   ]
  },
  {
   "cell_type": "markdown",
   "metadata": {},
   "source": [
    "Hence we use Decision Tree, ADABoost and Gradient Boosting in a stacking classifier without upsampling"
   ]
  },
  {
   "cell_type": "code",
   "execution_count": 26,
   "metadata": {},
   "outputs": [
    {
     "name": "stderr",
     "output_type": "stream",
     "text": [
      "/Users/tejashriprabhu/miniforge3/envs/env_tf/lib/python3.9/site-packages/xgboost/sklearn.py:1224: UserWarning: The use of label encoder in XGBClassifier is deprecated and will be removed in a future release. To remove this warning, do the following: 1) Pass option use_label_encoder=False when constructing XGBClassifier object; and 2) Encode your labels (y) as integers starting with 0, i.e. 0, 1, 2, ..., [num_class - 1].\n",
      "  warnings.warn(label_encoder_deprecation_msg, UserWarning)\n"
     ]
    },
    {
     "name": "stdout",
     "output_type": "stream",
     "text": [
      "[07:31:54] WARNING: /private/var/folders/hb/h5fq4t0j2mb5r4wgcdmy2gth0000gn/T/pip-install-x8xta0ai/xgboost_1e83477c2bba479c9db6d63859da1e3f/build/temp.macosx-11.0-arm64-3.9/xgboost/src/learner.cc:1115: Starting in XGBoost 1.3.0, the default evaluation metric used with the objective 'binary:logistic' was changed from 'error' to 'logloss'. Explicitly set eval_metric if you'd like to restore the old behavior.\n"
     ]
    },
    {
     "name": "stderr",
     "output_type": "stream",
     "text": [
      "/Users/tejashriprabhu/miniforge3/envs/env_tf/lib/python3.9/site-packages/xgboost/sklearn.py:1224: UserWarning: The use of label encoder in XGBClassifier is deprecated and will be removed in a future release. To remove this warning, do the following: 1) Pass option use_label_encoder=False when constructing XGBClassifier object; and 2) Encode your labels (y) as integers starting with 0, i.e. 0, 1, 2, ..., [num_class - 1].\n",
      "  warnings.warn(label_encoder_deprecation_msg, UserWarning)\n"
     ]
    },
    {
     "name": "stdout",
     "output_type": "stream",
     "text": [
      "[07:32:14] WARNING: /private/var/folders/hb/h5fq4t0j2mb5r4wgcdmy2gth0000gn/T/pip-install-x8xta0ai/xgboost_1e83477c2bba479c9db6d63859da1e3f/build/temp.macosx-11.0-arm64-3.9/xgboost/src/learner.cc:1115: Starting in XGBoost 1.3.0, the default evaluation metric used with the objective 'binary:logistic' was changed from 'error' to 'logloss'. Explicitly set eval_metric if you'd like to restore the old behavior.\n"
     ]
    },
    {
     "name": "stderr",
     "output_type": "stream",
     "text": [
      "/Users/tejashriprabhu/miniforge3/envs/env_tf/lib/python3.9/site-packages/xgboost/sklearn.py:1224: UserWarning: The use of label encoder in XGBClassifier is deprecated and will be removed in a future release. To remove this warning, do the following: 1) Pass option use_label_encoder=False when constructing XGBClassifier object; and 2) Encode your labels (y) as integers starting with 0, i.e. 0, 1, 2, ..., [num_class - 1].\n",
      "  warnings.warn(label_encoder_deprecation_msg, UserWarning)\n"
     ]
    },
    {
     "name": "stdout",
     "output_type": "stream",
     "text": [
      "[07:32:16] WARNING: /private/var/folders/hb/h5fq4t0j2mb5r4wgcdmy2gth0000gn/T/pip-install-x8xta0ai/xgboost_1e83477c2bba479c9db6d63859da1e3f/build/temp.macosx-11.0-arm64-3.9/xgboost/src/learner.cc:1115: Starting in XGBoost 1.3.0, the default evaluation metric used with the objective 'binary:logistic' was changed from 'error' to 'logloss'. Explicitly set eval_metric if you'd like to restore the old behavior.\n"
     ]
    },
    {
     "name": "stderr",
     "output_type": "stream",
     "text": [
      "/Users/tejashriprabhu/miniforge3/envs/env_tf/lib/python3.9/site-packages/xgboost/sklearn.py:1224: UserWarning: The use of label encoder in XGBClassifier is deprecated and will be removed in a future release. To remove this warning, do the following: 1) Pass option use_label_encoder=False when constructing XGBClassifier object; and 2) Encode your labels (y) as integers starting with 0, i.e. 0, 1, 2, ..., [num_class - 1].\n",
      "  warnings.warn(label_encoder_deprecation_msg, UserWarning)\n"
     ]
    },
    {
     "name": "stdout",
     "output_type": "stream",
     "text": [
      "[07:32:17] WARNING: /private/var/folders/hb/h5fq4t0j2mb5r4wgcdmy2gth0000gn/T/pip-install-x8xta0ai/xgboost_1e83477c2bba479c9db6d63859da1e3f/build/temp.macosx-11.0-arm64-3.9/xgboost/src/learner.cc:1115: Starting in XGBoost 1.3.0, the default evaluation metric used with the objective 'binary:logistic' was changed from 'error' to 'logloss'. Explicitly set eval_metric if you'd like to restore the old behavior.\n"
     ]
    },
    {
     "name": "stderr",
     "output_type": "stream",
     "text": [
      "/Users/tejashriprabhu/miniforge3/envs/env_tf/lib/python3.9/site-packages/xgboost/sklearn.py:1224: UserWarning: The use of label encoder in XGBClassifier is deprecated and will be removed in a future release. To remove this warning, do the following: 1) Pass option use_label_encoder=False when constructing XGBClassifier object; and 2) Encode your labels (y) as integers starting with 0, i.e. 0, 1, 2, ..., [num_class - 1].\n",
      "  warnings.warn(label_encoder_deprecation_msg, UserWarning)\n"
     ]
    },
    {
     "name": "stdout",
     "output_type": "stream",
     "text": [
      "[07:32:18] WARNING: /private/var/folders/hb/h5fq4t0j2mb5r4wgcdmy2gth0000gn/T/pip-install-x8xta0ai/xgboost_1e83477c2bba479c9db6d63859da1e3f/build/temp.macosx-11.0-arm64-3.9/xgboost/src/learner.cc:1115: Starting in XGBoost 1.3.0, the default evaluation metric used with the objective 'binary:logistic' was changed from 'error' to 'logloss'. Explicitly set eval_metric if you'd like to restore the old behavior.\n"
     ]
    },
    {
     "name": "stderr",
     "output_type": "stream",
     "text": [
      "/Users/tejashriprabhu/miniforge3/envs/env_tf/lib/python3.9/site-packages/xgboost/sklearn.py:1224: UserWarning: The use of label encoder in XGBClassifier is deprecated and will be removed in a future release. To remove this warning, do the following: 1) Pass option use_label_encoder=False when constructing XGBClassifier object; and 2) Encode your labels (y) as integers starting with 0, i.e. 0, 1, 2, ..., [num_class - 1].\n",
      "  warnings.warn(label_encoder_deprecation_msg, UserWarning)\n"
     ]
    },
    {
     "name": "stdout",
     "output_type": "stream",
     "text": [
      "[07:32:19] WARNING: /private/var/folders/hb/h5fq4t0j2mb5r4wgcdmy2gth0000gn/T/pip-install-x8xta0ai/xgboost_1e83477c2bba479c9db6d63859da1e3f/build/temp.macosx-11.0-arm64-3.9/xgboost/src/learner.cc:1115: Starting in XGBoost 1.3.0, the default evaluation metric used with the objective 'binary:logistic' was changed from 'error' to 'logloss'. Explicitly set eval_metric if you'd like to restore the old behavior.\n"
     ]
    },
    {
     "data": {
      "text/plain": [
       "Pipeline(steps=[('Imputer',\n",
       "                 IterativeImputer(initial_strategy='median', max_iter=500)),\n",
       "                ('Scalar', StandardScaler()),\n",
       "                ('clf',\n",
       "                 StackingClassifier(estimators=[('dt',\n",
       "                                                 DecisionTreeClassifier(ccp_alpha=0.01,\n",
       "                                                                        max_depth=4)),\n",
       "                                                ('gb',\n",
       "                                                 GradientBoostingClassifier()),\n",
       "                                                ('xgb',\n",
       "                                                 XGBClassifier(base_score=None,\n",
       "                                                               booster=None,\n",
       "                                                               colsample_bylevel=None,\n",
       "                                                               colsample_bynode=None,\n",
       "                                                               colsample_...\n",
       "                                                               max_delta_step=None,\n",
       "                                                               max_depth=4,\n",
       "                                                               min_child_weight=None,\n",
       "                                                               missing=nan,\n",
       "                                                               monotone_constraints=None,\n",
       "                                                               n_estimators=100,\n",
       "                                                               n_jobs=None,\n",
       "                                                               num_parallel_tree=None,\n",
       "                                                               predictor=None,\n",
       "                                                               random_state=None,\n",
       "                                                               reg_alpha=None,\n",
       "                                                               reg_lambda=None,\n",
       "                                                               scale_pos_weight=None,\n",
       "                                                               subsample=None,\n",
       "                                                               tree_method=None,\n",
       "                                                               validate_parameters=None,\n",
       "                                                               verbosity=None))],\n",
       "                                    final_estimator=AdaBoostClassifier(n_estimators=500)))])"
      ]
     },
     "execution_count": 26,
     "metadata": {},
     "output_type": "execute_result"
    },
    {
     "name": "stdout",
     "output_type": "stream",
     "text": [
      "Accuracy Score: 0.9575\n",
      "Balanced Accuracy Score: 0.7466\n",
      "Precision Score:0.8537\n",
      "Recall Score:0.5000\n"
     ]
    },
    {
     "data": {
      "text/plain": [
       "<sklearn.metrics._plot.confusion_matrix.ConfusionMatrixDisplay at 0x137ac4fd0>"
      ]
     },
     "execution_count": 26,
     "metadata": {},
     "output_type": "execute_result"
    },
    {
     "data": {
      "image/png": "[encoded data removed]",
      "text/plain": [
       "<Figure size 432x288 with 2 Axes>"
      ]
     },
     "metadata": {
      "needs_background": "light"
     },
     "output_type": "display_data"
    },
    {
     "name": "stdout",
     "output_type": "stream",
     "text": [
      "              precision    recall  f1-score   support\n",
      "\n",
      "           0       0.96      0.99      0.98       894\n",
      "           1       0.85      0.50      0.63        70\n",
      "\n",
      "    accuracy                           0.96       964\n",
      "   macro avg       0.91      0.75      0.80       964\n",
      "weighted avg       0.95      0.96      0.95       964\n",
      "\n",
      "\n"
     ]
    }
   ],
   "source": [
    "\n",
    "X = data.drop(columns = ['Bankrupt','Id'])\n",
    "y = data['Bankrupt']\n",
    "X_train, X_test, y_train, y_test = train_test_split(X, y, test_size=0.2, random_state=42)\n",
    "\n",
    "#Initializing objects\n",
    "Imputer = IterativeImputer(max_iter=500,initial_strategy='median')\n",
    "scalar = StandardScaler()\n",
    "ada = AdaBoostClassifier(n_estimators =500)\n",
    "dt = DecisionTreeClassifier(ccp_alpha=0.01,max_depth=4)\n",
    "gb = GradientBoostingClassifier(n_estimators=100)\n",
    "xgb = XGBClassifier(max_depth=4)\n",
    "estimators = [('dt', dt),('gb',gb),('xgb',xgb)]\n",
    "\n",
    "clf = StackingClassifier(estimators=estimators, final_estimator=ada)\n",
    "\n",
    "#Creating a pipeline object\n",
    "pipe = Pipeline(steps=[(\"Imputer\",Imputer),(\"Scalar\",scalar),(\"clf\",clf)])\n",
    "#Fitting our training data to the pipeline\n",
    "pipe.fit(X_train,y_train)\n",
    "#Predicting y_test on the pipeline\n",
    "y_pred = pipe.predict(X_test)\n",
    "\n",
    "#Performance Metrics\n",
    "\n",
    "print(\"Accuracy Score: {:3.4f}\".format(accuracy_score(y_test,y_pred)))\n",
    "print(\"Balanced Accuracy Score: {:3.4f}\".format(balanced_accuracy_score(y_test,y_pred)))\n",
    "print(\"Precision Score:{:3.4f}\".format(precision_score(y_test,y_pred)))\n",
    "print(\"Recall Score:{:3.4f}\".format(recall_score(y_test,y_pred)))\n",
    "disp = ConfusionMatrixDisplay(confusion_matrix=confusion_matrix(y_test,y_pred))\n",
    "disp.plot()\n",
    "plt.show()\n",
    "print(f\"{classification_report(y_test,y_pred)}\\n\")"
   ]
  },
  {
   "cell_type": "markdown",
   "metadata": {},
   "source": [
    "While the stacking classfier, gives high accuracy and precision, recall is more important under the assumption that predicting bankrupty is more important than solvency"
   ]
  },
  {
   "cell_type": "markdown",
   "metadata": {},
   "source": [
    "## ADABoosting Classifier"
   ]
  },
  {
   "cell_type": "code",
   "execution_count": 27,
   "metadata": {},
   "outputs": [
    {
     "data": {
      "text/plain": [
       "Pipeline(steps=[('Imputer', IterativeImputer(max_iter=500)),\n",
       "                ('ADASYN', ADASYN()), ('scalar', StandardScaler()),\n",
       "                ('ada', AdaBoostClassifier(n_estimators=500))])"
      ]
     },
     "execution_count": 27,
     "metadata": {},
     "output_type": "execute_result"
    },
    {
     "name": "stdout",
     "output_type": "stream",
     "text": [
      "Performance Metrics with ADABoosting and ADASYN Upsampling\n",
      "\n",
      "Accuracy Score: 0.9326\n",
      "Balanced Accuracy Score: 0.7661\n",
      "Precision Score:0.5333\n",
      "Recall Score:0.5714\n"
     ]
    },
    {
     "data": {
      "text/plain": [
       "<sklearn.metrics._plot.confusion_matrix.ConfusionMatrixDisplay at 0x137ae49d0>"
      ]
     },
     "execution_count": 27,
     "metadata": {},
     "output_type": "execute_result"
    },
    {
     "data": {
      "image/png": "[encoded data removed]",
      "text/plain": [
       "<Figure size 432x288 with 2 Axes>"
      ]
     },
     "metadata": {
      "needs_background": "light"
     },
     "output_type": "display_data"
    },
    {
     "name": "stdout",
     "output_type": "stream",
     "text": [
      "[0.94033722 0.92866407 0.94293126 0.92347601 0.93636364]\n",
      "              precision    recall  f1-score   support\n",
      "\n",
      "           0       0.97      0.96      0.96       894\n",
      "           1       0.53      0.57      0.55        70\n",
      "\n",
      "    accuracy                           0.93       964\n",
      "   macro avg       0.75      0.77      0.76       964\n",
      "weighted avg       0.93      0.93      0.93       964\n",
      "\n",
      "\n"
     ]
    }
   ],
   "source": [
    "#AdaBoosting Classifier with ADASYN (Adaptive Synthetic Sampling Approach)\n",
    "from sklearn.tree import DecisionTreeClassifier\n",
    "from sklearn.metrics import classification_report\n",
    "X = data.drop(columns = ['Bankrupt','Id'])\n",
    "y = data['Bankrupt']\n",
    "X_train, X_test, y_train, y_test = train_test_split(X, y, test_size=0.2, random_state=42)\n",
    "cv = 5\n",
    "#Initializing objects\n",
    "Imputer = IterativeImputer(max_iter=500)\n",
    "adasyn = ADASYN()\n",
    "scalar = StandardScaler()\n",
    "dt = DecisionTreeClassifier(ccp_alpha=0.1, max_depth=2, max_features='log2')\n",
    "ada = AdaBoostClassifier(n_estimators=500,learning_rate=1.0)\n",
    "\n",
    "#Creating a pipeline object\n",
    "pipe = Pipeline(steps=[(\"Imputer\",Imputer),(\"ADASYN\",adasyn),(\"scalar\",scalar),(\"ada\",ada)])\n",
    "#Cross Validating our data\n",
    "cross_val = cross_val_score(pipe, X_train, y_train, cv=cv)\n",
    "#Fitting our training data to the pipeline\n",
    "pipe.fit(X_train,y_train)\n",
    "#Predicting y_test on the pipeline\n",
    "y_pred = pipe.predict(X_test)\n",
    "\n",
    "#Performance Metrics\n",
    "print(\"Performance Metrics with ADABoosting and ADASYN Upsampling\\n\")\n",
    "print(\"Accuracy Score: {:3.4f}\".format(accuracy_score(y_test,y_pred)))\n",
    "print(\"Balanced Accuracy Score: {:3.4f}\".format(balanced_accuracy_score(y_test,y_pred)))\n",
    "print(\"Precision Score:{:3.4f}\".format(precision_score(y_test,y_pred)))\n",
    "print(\"Recall Score:{:3.4f}\".format(recall_score(y_test,y_pred)))\n",
    "disp = ConfusionMatrixDisplay(confusion_matrix=confusion_matrix(y_test,y_pred))\n",
    "disp.plot()\n",
    "plt.show()\n",
    "print(cross_val)\n",
    "print(f\"{classification_report(y_test,y_pred)}\\n\")"
   ]
  },
  {
   "cell_type": "markdown",
   "metadata": {},
   "source": [
    "# HyperTuning Decision Tree Classifier using GridSearchCV"
   ]
  },
  {
   "cell_type": "markdown",
   "metadata": {},
   "source": [
    "Fine tuning the model using GridSearchCV"
   ]
  },
  {
   "cell_type": "markdown",
   "metadata": {},
   "source": [
    "Marking down the code, since it takes significant run time"
   ]
  },
  {
   "cell_type": "markdown",
   "metadata": {},
   "source": [
    "#Running a GridSearchCV to find the best parameters for the DecisionTree Classifier with ADASYN \n",
    "from sklearn.model_selection import GridSearchCV\n",
    "from sklearn.tree import DecisionTreeClassifier\n",
    "X = data.drop(columns = ['Bankrupt','Id'])\n",
    "y = data['Bankrupt']\n",
    "X_train, X_test, y_train, y_test = train_test_split(X, y, test_size=0.2, random_state=42)\n",
    "cv = 5\n",
    "#Initializing objects\n",
    "Imputer = IterativeImputer(max_iter=500)\n",
    "adasyn = ADASYN()\n",
    "scalar = StandardScaler()\n",
    "dt = DecisionTreeClassifier()\n",
    "\n",
    "param_grid = {\n",
    "              'dt__max_features': ['auto','log2','sqrt'],\n",
    "              'dt__ccp_alpha': [0.1, .01, .001],\n",
    "              'dt__max_depth' : [2, 6, 10],\n",
    "              'dt__criterion' :['gini', 'entropy']\n",
    "             }\n",
    "\n",
    "#Creating a pipeline object\n",
    "pipe = Pipeline(steps=[(\"Imputer\",Imputer),(\"ADASYN\",adasyn),(\"scalar\",scalar),(\"dt\",dt)])\n",
    "#Cross Validating our data\n",
    "\n",
    "grid_search = GridSearchCV(pipe, param_grid=param_grid)\n",
    "#cross_val = cross_val_score(pipe, X_train, y_train, cv=cv)\n",
    "#Fitting our training data to the pipeline\n",
    "grid_search.fit(X_train,y_train)\n",
    "#Predicting y_test on the pipeline\n",
    "#y_pred = pipe.predict(X_test)\n",
    "final_model = grid_search.best_estimator_\n",
    "\n",
    "#Performance Metrics\n",
    "print(\"Performance Metrics with ADABoosting and ADASYN Upsampling\\n\")\n",
    "print(\"Accuracy Score: {:3.4f}\".format(accuracy_score(y_test,y_pred)))\n",
    "print(\"Balanced Accuracy Score: {:3.4f}\".format(balanced_accuracy_score(y_test,y_pred)))\n",
    "print(\"Precision Score:{:3.4f}\".format(precision_score(y_test,y_pred)))\n",
    "print(\"Recall Score:{:3.4f}\".format(recall_score(y_test,y_pred)))\n",
    "disp = ConfusionMatrixDisplay(confusion_matrix=confusion_matrix(y_test,y_pred))\n",
    "disp.plot()\n",
    "plt.show()\n",
    "#print(cross_val)\n",
    "print(final_model)"
   ]
  },
  {
   "cell_type": "markdown",
   "metadata": {},
   "source": [
    "Pipeline(steps=[('Imputer', IterativeImputer(max_iter=500)),\n",
    "                ('ADASYN', ADASYN()), ('scalar', StandardScaler()),\n",
    "                ('dt',\n",
    "                 DecisionTreeClassifier(ccp_alpha=0.1, max_depth=2,\n",
    "                                        max_features='log2'))])\n"
   ]
  },
  {
   "cell_type": "markdown",
   "metadata": {},
   "source": [
    "#ADAboost\n",
    "from sklearn.tree import DecisionTreeClassifier\n",
    "from sklearn.model_selection import RepeatedStratifiedKFold\n",
    "from sklearn.model_selection import GridSearchCV\n",
    "X = data.drop(columns = ['Bankrupt','Id'])\n",
    "y = data['Bankrupt']\n",
    "X_train, X_test, y_train, y_test = train_test_split(X, y, test_size=0.2, random_state=42)\n",
    "\n",
    "\n",
    "Imputer = IterativeImputer(max_iter=500)\n",
    "smote = SMOTE()\n",
    "scalar = StandardScaler()\n",
    "pca = PCA(n_components=32)\n",
    "\n",
    "param_grid = {\n",
    "    \"ADA__n_estimators\": [10, 50, 100, 500],\n",
    "    \"ADA__learning_rate\": [0.0001, 0.001, 0.01, 0.1, 1.0]\n",
    "}\n",
    "\n",
    "\n",
    "#cv = RepeatedStratifiedKFold(n_splits=10, n_repeats=3, random_state=1)\n",
    "clf1 = AdaBoostClassifier()\n",
    "\n",
    "#Creating a pipeline object\n",
    "pipe = Pipeline(steps=[(\"Imputer\",Imputer),(\"smote\",smote),(\"Scalar\",scalar),('pca',pca),(\"ADA\",clf1)])\n",
    "grid_search = GridSearchCV(pipe, param_grid, n_jobs=1)\n",
    "\n",
    "grid_result = grid_search.fit(X_train,y_train)\n",
    "print(\"Best: %f using %s\" % (grid_result.best_score_, grid_result.best_params_))\n",
    "\n",
    "#Best: 0.865597 using {'ADA__learning_rate': 1.0, 'ADA__n_estimators': 500}"
   ]
  },
  {
   "cell_type": "code",
   "execution_count": 28,
   "metadata": {},
   "outputs": [
    {
     "data": {
      "text/plain": [
       "Pipeline(steps=[('Imputer',\n",
       "                 IterativeImputer(initial_strategy='median', max_iter=1000)),\n",
       "                ('ADASYN', ADASYN()), ('scalar', StandardScaler()),\n",
       "                ('ada',\n",
       "                 AdaBoostClassifier(base_estimator=DecisionTreeClassifier(ccp_alpha=0.01,\n",
       "                                                                          max_depth=5,\n",
       "                                                                          max_features='auto'),\n",
       "                                    learning_rate=0.1, n_estimators=500))])"
      ]
     },
     "execution_count": 28,
     "metadata": {},
     "output_type": "execute_result"
    },
    {
     "name": "stdout",
     "output_type": "stream",
     "text": [
      "Performance Metrics with ADABoosting and ADASYN Upsampling\n",
      "\n",
      "Accuracy Score: 0.9201\n",
      "Balanced Accuracy Score: 0.8450\n",
      "Precision Score:0.4690\n",
      "Recall Score:0.7571\n"
     ]
    },
    {
     "data": {
      "text/plain": [
       "<sklearn.metrics._plot.confusion_matrix.ConfusionMatrixDisplay at 0x134e6fd60>"
      ]
     },
     "execution_count": 28,
     "metadata": {},
     "output_type": "execute_result"
    },
    {
     "data": {
      "image/png": "[encoded data removed]",
      "text/plain": [
       "<Figure size 432x288 with 2 Axes>"
      ]
     },
     "metadata": {
      "needs_background": "light"
     },
     "output_type": "display_data"
    },
    {
     "name": "stdout",
     "output_type": "stream",
     "text": [
      "              precision    recall  f1-score   support\n",
      "\n",
      "           0       0.98      0.93      0.96       894\n",
      "           1       0.47      0.76      0.58        70\n",
      "\n",
      "    accuracy                           0.92       964\n",
      "   macro avg       0.72      0.85      0.77       964\n",
      "weighted avg       0.94      0.92      0.93       964\n",
      "\n",
      "\n"
     ]
    }
   ],
   "source": [
    "# AdaBoost Classifier with DecisionTree as base estimator\n",
    "from sklearn.model_selection import GridSearchCV\n",
    "from sklearn.tree import DecisionTreeClassifier\n",
    "from sklearn.tree import DecisionTreeRegressor\n",
    "from sklearn.preprocessing import Normalizer\n",
    "from imblearn.over_sampling import SVMSMOTE\n",
    "X = data.drop(columns = ['Bankrupt','Id'])\n",
    "y = data['Bankrupt']\n",
    "X_train, X_test, y_train, y_test = train_test_split(X, y, test_size=0.2, random_state=42)\n",
    "cv = 5\n",
    "#Initializing objects\n",
    "Imputer = IterativeImputer(initial_strategy = 'median',max_iter=1000)\n",
    "adasyn = ADASYN()\n",
    "scalar = StandardScaler()\n",
    "dt = DecisionTreeClassifier(ccp_alpha=0.01, max_depth=5, max_features='auto')\n",
    "\n",
    "ada = AdaBoostClassifier(base_estimator=dt,learning_rate=0.1,n_estimators=500)\n",
    "\n",
    "#Creating a pipeline object\n",
    "pipe = Pipeline(steps=[(\"Imputer\",Imputer),(\"ADASYN\",adasyn),(\"scalar\",scalar),(\"ada\",ada)])\n",
    "\n",
    "#cross_val = cross_val_score(pipe, X_train, y_train, cv=cv)\n",
    "#Fitting our training data to the pipeline\n",
    "pipe.fit(X_train,y_train)\n",
    "#Predicting y_test on the pipeline\n",
    "y_pred = pipe.predict(X_test)\n",
    "\n",
    "\n",
    "#Performance Metrics\n",
    "print(\"Performance Metrics with ADABoosting and ADASYN Upsampling\\n\")\n",
    "print(\"Accuracy Score: {:3.4f}\".format(accuracy_score(y_test,y_pred)))\n",
    "print(\"Balanced Accuracy Score: {:3.4f}\".format(balanced_accuracy_score(y_test,y_pred)))\n",
    "print(\"Precision Score:{:3.4f}\".format(precision_score(y_test,y_pred)))\n",
    "print(\"Recall Score:{:3.4f}\".format(recall_score(y_test,y_pred)))\n",
    "disp = ConfusionMatrixDisplay(confusion_matrix=confusion_matrix(y_test,y_pred))\n",
    "disp.plot()\n",
    "plt.show()\n",
    "#print(cross_val)\n",
    "print(f\"{classification_report(y_test,y_pred)}\\n\")"
   ]
  },
  {
   "cell_type": "code",
   "execution_count": 29,
   "metadata": {},
   "outputs": [
    {
     "name": "stderr",
     "output_type": "stream",
     "text": [
      "/Users/tejashriprabhu/miniforge3/envs/env_tf/lib/python3.9/site-packages/xgboost/sklearn.py:1224: UserWarning: The use of label encoder in XGBClassifier is deprecated and will be removed in a future release. To remove this warning, do the following: 1) Pass option use_label_encoder=False when constructing XGBClassifier object; and 2) Encode your labels (y) as integers starting with 0, i.e. 0, 1, 2, ..., [num_class - 1].\n",
      "  warnings.warn(label_encoder_deprecation_msg, UserWarning)\n"
     ]
    },
    {
     "name": "stdout",
     "output_type": "stream",
     "text": [
      "[07:34:47] WARNING: /private/var/folders/hb/h5fq4t0j2mb5r4wgcdmy2gth0000gn/T/pip-install-x8xta0ai/xgboost_1e83477c2bba479c9db6d63859da1e3f/build/temp.macosx-11.0-arm64-3.9/xgboost/src/learner.cc:1115: Starting in XGBoost 1.3.0, the default evaluation metric used with the objective 'binary:logistic' was changed from 'error' to 'logloss'. Explicitly set eval_metric if you'd like to restore the old behavior.\n"
     ]
    },
    {
     "data": {
      "text/plain": [
       "Pipeline(steps=[('Imputer', IterativeImputer(max_iter=1000)),\n",
       "                ('scalar', StandardScaler()),\n",
       "                ('xgb',\n",
       "                 XGBClassifier(base_score=0.5, booster='gbtree',\n",
       "                               colsample_bylevel=1, colsample_bynode=1,\n",
       "                               colsample_bytree=1, enable_categorical=False,\n",
       "                               gamma=0, gpu_id=-1, importance_type=None,\n",
       "                               interaction_constraints='',\n",
       "                               learning_rate=0.300000012, max_delta_step=0,\n",
       "                               max_depth=6, min_child_weight=1, missing=nan,\n",
       "                               monotone_constraints='()', n_estimators=100,\n",
       "                               n_jobs=1, num_parallel_tree=1, predictor='auto',\n",
       "                               random_state=0, reg_alpha=0, reg_lambda=1,\n",
       "                               scale_pos_weight=1, subsample=1,\n",
       "                               tree_method='exact', validate_parameters=1,\n",
       "                               verbosity=None))])"
      ]
     },
     "execution_count": 29,
     "metadata": {},
     "output_type": "execute_result"
    },
    {
     "name": "stdout",
     "output_type": "stream",
     "text": [
      "Accuracy Score: 0.9627\n",
      "Balanced Accuracy Score: 0.7692\n",
      "Precision Score:0.9048\n",
      "Recall Score:0.5429\n"
     ]
    },
    {
     "data": {
      "text/plain": [
       "<sklearn.metrics._plot.confusion_matrix.ConfusionMatrixDisplay at 0x137ac2340>"
      ]
     },
     "execution_count": 29,
     "metadata": {},
     "output_type": "execute_result"
    },
    {
     "data": {
      "image/png": "[encoded data removed]",
      "text/plain": [
       "<Figure size 432x288 with 2 Axes>"
      ]
     },
     "metadata": {
      "needs_background": "light"
     },
     "output_type": "display_data"
    },
    {
     "name": "stdout",
     "output_type": "stream",
     "text": [
      "              precision    recall  f1-score   support\n",
      "\n",
      "           0       0.97      1.00      0.98       894\n",
      "           1       0.90      0.54      0.68        70\n",
      "\n",
      "    accuracy                           0.96       964\n",
      "   macro avg       0.94      0.77      0.83       964\n",
      "weighted avg       0.96      0.96      0.96       964\n",
      "\n",
      "\n"
     ]
    }
   ],
   "source": [
    "#XGB\n",
    "X = data.drop(columns = ['Bankrupt','Id'])\n",
    "y = data['Bankrupt']\n",
    "X_train, X_test, y_train, y_test = train_test_split(X, y, test_size=0.2, random_state=42)\n",
    "\n",
    "#Initializing objects\n",
    "Imputer = IterativeImputer(max_iter=1000)\n",
    "adasyn = ADASYN()\n",
    "scalar = StandardScaler()\n",
    "xgb = XGBClassifier(n_estimators=100)\n",
    "\n",
    "#Creating a pipeline object\n",
    "pipe = Pipeline(steps=[(\"Imputer\",Imputer),(\"scalar\",scalar),(\"xgb\",xgb)])\n",
    "\n",
    "#cross_val = cross_val_score(pipe, X_train, y_train, cv=cv)\n",
    "#Fitting our training data to the pipeline\n",
    "pipe.fit(X_train,y_train)\n",
    "#Predicting y_test on the pipeline\n",
    "y_pred = pipe.predict(X_test)\n",
    "\n",
    "\n",
    "#Performance Metrics\n",
    "\n",
    "print(\"Accuracy Score: {:3.4f}\".format(accuracy_score(y_test,y_pred)))\n",
    "print(\"Balanced Accuracy Score: {:3.4f}\".format(balanced_accuracy_score(y_test,y_pred)))\n",
    "print(\"Precision Score:{:3.4f}\".format(precision_score(y_test,y_pred)))\n",
    "print(\"Recall Score:{:3.4f}\".format(recall_score(y_test,y_pred)))\n",
    "disp = ConfusionMatrixDisplay(confusion_matrix=confusion_matrix(y_test,y_pred))\n",
    "disp.plot()\n",
    "plt.show()\n",
    "#print(cross_val)\n",
    "print(f\"{classification_report(y_test,y_pred)}\\n\")"
   ]
  },
  {
   "cell_type": "markdown",
   "metadata": {},
   "source": [
    "# Evaluating your project"
   ]
  },
  {
   "cell_type": "markdown",
   "metadata": {},
   "source": [
    "We will evaluate your submission on a test dataset that we provide\n",
    "- It has no labels, so **you** can't use it to evaluate your model, but **we** have the labels\n",
    "- We will call this evaluation dataset the \"holdout\" data\n",
    "\n",
    "Let's get it"
   ]
  },
  {
   "cell_type": "code",
   "execution_count": 30,
   "metadata": {},
   "outputs": [
    {
     "name": "stdout",
     "output_type": "stream",
     "text": [
      "Data shape:  (1092, 65)\n"
     ]
    }
   ],
   "source": [
    "holdout_data = pd.read_csv( os.path.join(DATA_DIR, \"holdout\", '5th_yr.csv') )\n",
    "\n",
    "print(\"Data shape: \", holdout_data.shape)\n"
   ]
  },
  {
   "cell_type": "markdown",
   "metadata": {},
   "source": [
    "We will evaluate your model on the holdout examples using metrics\n",
    "- Accuracy\n",
    "- Recall\n",
    "- Precision\n",
    "\n",
    "From our lecture: we may have to make a trade-off between Recall and Precision.\n",
    "\n",
    "Our evaluation of your submission will be partially based on how you made (and described) the trade-off.\n",
    "\n",
    "You may assume that it is 5 times worse to *fail to identify a company that will go bankrupt*\n",
    "than it is to fail to identify a company that won't go bankrupt."
   ]
  },
  {
   "cell_type": "markdown",
   "metadata": {},
   "source": [
    "# Your model\n",
    "\n",
    "Time for you to continue the Recipe for Machine Learning on your own.\n",
    "\n"
   ]
  },
  {
   "cell_type": "markdown",
   "metadata": {},
   "source": [
    "## Submission guidelines\n",
    "\n",
    "Although your notebook may contain many models (e.g., due to your iterative development)\n",
    "we will only evaluate a single model.\n",
    "So choose one (explain why !) and do the following.\n",
    "\n",
    "- You will implement the body of a subroutine `MyModel`\n",
    "    - That takes as argument a Pandas DataFrame \n",
    "        - Each row is an example on which to predict\n",
    "        - The features of the example are elements of the row\n",
    "    - Performs predictions on each example\n",
    "    - Returns an array or predictions with a one-to-one correspondence with the examples in the test set\n",
    "    "
   ]
  },
  {
   "cell_type": "markdown",
   "metadata": {},
   "source": [
    "We will evaluate your model against the holdout data\n",
    "- By reading the holdout examples `X_hold` (as above)\n",
    "- Calling `y_hold_pred = MyModel(X_hold)` to get the predictions\n",
    "- Comparing the predicted values `y_hold_pred` against the true labels `y_hold` which are known only to the instructors\n",
    "\n",
    "See the following cell as an illustration"
   ]
  },
  {
   "cell_type": "raw",
   "metadata": {},
   "source": [
    "X_hold = pd.read_csv( os.path.join(DATA_DIR, \"holdout\", '5th_yr.csv') )\n",
    "\n",
    "# Predict using MyModel\n",
    "y_hold_pred = MyModel(X_hold)\n",
    "\n",
    "# Compute metrics\n",
    "# accuracy\n",
    "accuracy_hold = accuracy_score(y_hold, y_hold_pred)\n",
    "\n",
    "# recall_\n",
    "recall_hold = recall_score(y_hold, y_hold_pred, pos_label=1, average=\"binary\")\n",
    "\n",
    "# precision\n",
    "precision_hold = precision_score(y_hold,   y_hold_pred, pos_label=1, average=\"binary\")\n",
    "\n",
    "\n",
    "print(\"\\t{m:s} Accuracy: {a:3.1%}, Recall {r:3.1%}, Precision {p:3.1%}\".format(m=name,\n",
    "                                                                            a=accuracy_hold,\n",
    "                                                                            r=recall_hold,\n",
    "                                                                            p=precision_hold\n",
    "                                                                            )\n",
    "         )"
   ]
  },
  {
   "cell_type": "markdown",
   "metadata": {},
   "source": [
    "**Remember**\n",
    "\n",
    "The holdout data is in the same format as the one we used for training\n",
    "- Except that it has no attribute for the target\n",
    "- So you will need to perform all the transformations on the holdout data\n",
    "    - As you did on the training data\n",
    "    - Including turning the string representation of numbers into actual numeric data types\n",
    "\n",
    "All of this work *must* be performed within the body of the `MyModel` routine you will write\n",
    "\n",
    "We will grade you by comparing the predictions array you create to the answers known to us."
   ]
  },
  {
   "cell_type": "code",
   "execution_count": 31,
   "metadata": {},
   "outputs": [],
   "source": [
    "\n",
    "import pandas as pd\n",
    "import os\n",
    "from sklearn.tree import DecisionTreeClassifier\n",
    "from sklearn.ensemble import AdaBoostClassifier\n",
    "from sklearn.preprocessing import StandardScaler\n",
    "\n",
    "from imblearn.over_sampling import ADASYN\n",
    "from imblearn.pipeline import Pipeline\n",
    "\n",
    "from sklearn.metrics import precision_score\n",
    "from sklearn.metrics import recall_score\n",
    "from sklearn.metrics import accuracy_score\n",
    "from sklearn.metrics import balanced_accuracy_score\n",
    "from sklearn.metrics import confusion_matrix\n",
    "from sklearn.metrics import confusion_matrix, ConfusionMatrixDisplay\n",
    "from sklearn.metrics import classification_report\n",
    "\n",
    "X = data.drop(columns = ['Bankrupt','Id'])\n",
    "y = data['Bankrupt']\n",
    "X_train, X_test, y_train, y_test = train_test_split(X, y, test_size=0.2, random_state=42)\n",
    "\n",
    "# AdaBoost Classifier with DecisionTree as base estimator\n",
    "def MyModel(X):\n",
    "    # It should create an array of predictions; we initialize it to the empty array for convenience\n",
    "    predictions = []\n",
    "    \n",
    "   \n",
    "    a = data.drop(columns = ['Bankrupt','Id'])\n",
    "    b = data['Bankrupt']\n",
    "    X_train, X_test, y_train, y_test = train_test_split(a, b, test_size=0.2, random_state=42)\n",
    "    #Initializing objects\n",
    "    Imputer = IterativeImputer(initial_strategy = 'median',max_iter=1000)\n",
    "    adasyn = ADASYN()\n",
    "    scalar = StandardScaler()\n",
    "    dt = DecisionTreeClassifier(ccp_alpha=0.01, max_depth=5, max_features='auto')\n",
    "\n",
    "    ada = AdaBoostClassifier(base_estimator=dt,learning_rate=0.1,n_estimators=500)\n",
    "\n",
    "    #Creating a pipeline object\n",
    "    pipe = Pipeline(steps=[(\"Imputer\",Imputer),(\"ADASYN\",adasyn),(\"scalar\",scalar),(\"ada\",ada)])\n",
    "\n",
    "    #cross_val = cross_val_score(pipe, X_train, y_train, cv=cv)\n",
    "    #Fitting our training data to the pipeline\n",
    "    pipe.fit(X_train,y_train)\n",
    "    #Predicting y_test on the pipeline\n",
    "    y_pred = pipe.predict(X)\n",
    "\n",
    "    predictions = y_pred\n",
    "    # YOUR CODE GOES HERE\n",
    "    \n",
    "    \n",
    "    return predictions\n",
    "\n"
   ]
  },
  {
   "cell_type": "markdown",
   "metadata": {},
   "source": [
    "# Check your work: predict and evaluate metrics on *your* test examples\n",
    "\n",
    "Although only the instructors have the correct labels for the holdout dataset, you may want\n",
    "to create your own test dataset on which to evaluate your out of sample metrics.\n",
    "\n",
    "If you choose to do so, you can evaluate your models using the same metrics that the instructors will use.\n",
    "\n",
    "- Test whether your implementation of `MyModel` works\n",
    "- See the metrics  your model produces"
   ]
  },
  {
   "cell_type": "code",
   "execution_count": 34,
   "metadata": {},
   "outputs": [
    {
     "name": "stdout",
     "output_type": "stream",
     "text": [
      "\tADABoosting with ADASYN Upsampling Accuracy: 92.2%, Recall 71.4%, Precision 47.6%\n"
     ]
    },
    {
     "data": {
      "text/plain": [
       "<sklearn.metrics._plot.confusion_matrix.ConfusionMatrixDisplay at 0x13463ce80>"
      ]
     },
     "execution_count": 34,
     "metadata": {},
     "output_type": "execute_result"
    },
    {
     "data": {
      "image/png": "[encoded data removed]",
      "text/plain": [
       "<Figure size 432x288 with 2 Axes>"
      ]
     },
     "metadata": {
      "needs_background": "light"
     },
     "output_type": "display_data"
    },
    {
     "name": "stdout",
     "output_type": "stream",
     "text": [
      "              precision    recall  f1-score   support\n",
      "\n",
      "           0       0.98      0.94      0.96       894\n",
      "           1       0.48      0.71      0.57        70\n",
      "\n",
      "    accuracy                           0.92       964\n",
      "   macro avg       0.73      0.83      0.76       964\n",
      "weighted avg       0.94      0.92      0.93       964\n",
      "\n",
      "\n"
     ]
    }
   ],
   "source": [
    "name = \"ADABoosting with ADASYN Upsampling\"\n",
    "y_test_pred = MyModel(X_test)\n",
    "\n",
    "accuracy_test = accuracy_score(y_test, y_test_pred)\n",
    "recall_test = recall_score(y_test, y_test_pred, pos_label=1, average=\"binary\")\n",
    "precision_test = precision_score(y_test,   y_test_pred, pos_label=1, average=\"binary\")\n",
    "\n",
    "print(\"\\t{m:s} Accuracy: {a:3.1%}, Recall {r:3.1%}, Precision {p:3.1%}\".format(m=name,\n",
    "                                                                            a=accuracy_test,\n",
    "                                                                            r=recall_test,\n",
    "                                                                            p=precision_test\n",
    "                                                                            )\n",
    "         )\n",
    "\n",
    "disp = ConfusionMatrixDisplay(confusion_matrix=confusion_matrix(y_test,y_test_pred))\n",
    "disp.plot()\n",
    "plt.show()\n",
    "print(f\"{classification_report(y_test,y_test_pred)}\\n\")"
   ]
  },
  {
   "cell_type": "markdown",
   "metadata": {},
   "source": [
    "# Conclusion:"
   ]
  },
  {
   "cell_type": "markdown",
   "metadata": {},
   "source": [
    "As per the Recipe for ML:\n",
    "- I started with a Baseline Model\n",
    "- Exploratory data analysis: I visualized the dataset, saw the data imbalance, perfomed a PCA\n",
    "- Next, I performed upsampling to manage the data imbalance, and checked if sampling methods add value to the models\n",
    "- Also, ran a PCA vs non PCA model test to see the impact of PCA \n",
    "- Applied transformations such as scalar, and different upsampling methods\n",
    "- Trained different models and calculated their performance metrics\n",
    "- Fine Tuned the hyperparameters using GridSearchCV"
   ]
  },
  {
   "cell_type": "markdown",
   "metadata": {},
   "source": [
    "The reason for choosing the \"ADABoost with decision tree as base estimator\" model is that it achieves much better recall than the other models with a decent precision. Since, we are finding out if a company may go bankrupt, having a higher recall (sensitivity) over precision is preferred. As there is a higher cost associated with a false negative,(if a bankrupt company is identified as solvent). On the other hand, we can't have a very low precision either, as that would imply that most solvent companies start being classified as bankrupt too, which again is bad for business. This model gave the best tradeoff between precision and recall, and hence I picked this model."
   ]
  },
  {
   "cell_type": "code",
   "execution_count": null,
   "metadata": {},
   "outputs": [],
   "source": []
  }
 ],
 "metadata": {
  "kernelspec": {
   "display_name": "Python 3",
   "language": "python",
   "name": "python3"
  },
  "language_info": {
   "codemirror_mode": {
    "name": "ipython",
    "version": 3
   },
   "file_extension": ".py",
   "mimetype": "text/x-python",
   "name": "python",
   "nbconvert_exporter": "python",
   "pygments_lexer": "ipython3",
   "version": "3.9.10"
  },
  "toc": {
   "base_numbering": 1,
   "nav_menu": {},
   "number_sections": true,
   "sideBar": true,
   "skip_h1_title": false,
   "title_cell": "Table of Contents",
   "title_sidebar": "Contents",
   "toc_cell": false,
   "toc_position": {
    "height": "calc(100% - 180px)",
    "left": "10px",
    "top": "150px",
    "width": "370.594px"
   },
   "toc_section_display": true,
   "toc_window_display": true
  }
 },
 "nbformat": 4,
 "nbformat_minor": 2
}
